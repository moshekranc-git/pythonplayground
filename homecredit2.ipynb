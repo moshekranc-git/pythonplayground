{
  "nbformat": 4,
  "nbformat_minor": 0,
  "metadata": {
    "colab": {
      "name": "homecredit2.ipynb",
      "provenance": [],
      "collapsed_sections": [],
      "authorship_tag": "ABX9TyMCey+7v0UK+9dUwnQtUphz",
      "include_colab_link": true
    },
    "kernelspec": {
      "name": "python3",
      "display_name": "Python 3"
    }
  },
  "cells": [
    {
      "cell_type": "markdown",
      "metadata": {
        "id": "view-in-github",
        "colab_type": "text"
      },
      "source": [
        "<a href=\"https://colab.research.google.com/github/moshekranc-git/pythonplayground/blob/master/homecredit2.ipynb\" target=\"_parent\"><img src=\"https://colab.research.google.com/assets/colab-badge.svg\" alt=\"Open In Colab\"/></a>"
      ]
    },
    {
      "cell_type": "markdown",
      "metadata": {
        "id": "FYVZ1Hc0CLZ8",
        "colab_type": "text"
      },
      "source": [
        "https://www.kaggle.com/willkoehrsen/start-here-a-gentle-introduction\n",
        "\n",
        "home-credit-default-risk/application_train.csv"
      ]
    },
    {
      "cell_type": "code",
      "metadata": {
        "id": "ThnyUyyTCEWy",
        "colab_type": "code",
        "colab": {}
      },
      "source": [
        "# numpy and pandas for data manipulation\n",
        "import numpy as np\n",
        "import pandas as pd\n",
        "\n",
        "# sklearn preprocessing for dealing with categorical variables\n",
        "from sklearn.preprocessing import LabelEncoder, OneHotEncoder\n",
        "from sklearn.preprocessing import MinMaxScaler\n",
        "from sklearn.compose import ColumnTransformer\n",
        "from sklearn.impute import SimpleImputer\n",
        "\n",
        "# File system manangement\n",
        "import os\n",
        "\n",
        "# Suppress warnings\n",
        "#import warnings\n",
        "#warnings.filterwarnings('ignore')\n",
        "\n",
        "# matplotlib and seaborn for plotting\n",
        "import matplotlib.pyplot as plt\n",
        "import seaborn as sns\n",
        "\n",
        "from collections import Counter\n"
      ],
      "execution_count": 0,
      "outputs": []
    },
    {
      "cell_type": "code",
      "metadata": {
        "id": "j0dGNvqJCids",
        "colab_type": "code",
        "outputId": "0b295a5d-2bd9-44a0-e284-3cd88fa821fd",
        "colab": {
          "base_uri": "https://localhost:8080/",
          "height": 1000
        }
      },
      "source": [
        "# Training data\n",
        "app_train = pd.read_csv('application_train.csv')\n",
        "print('Training data shape: ', app_train.shape)\n",
        "print('\\n\\nHead\\n', app_train.head())\n",
        "print('\\n\\ndtypes\\n', app_train.dtypes)\n",
        "print('\\n\\ndtype value counts\\n', app_train.dtypes.value_counts())\n",
        "print('\\n\\nDescribe\\n')\n",
        "app_train.describe()\n",
        "\n",
        "# summarize the class distribution\n",
        "target = app_train['TARGET'].values\n",
        "counter = Counter(target)\n",
        "for k,v in counter.items():\n",
        "    per = v / len(target) * 100\n",
        "    print('Class=%s, Count=%d, Percentage=%.3f%%' % (k, v, per))\n",
        "app_train['TARGET'].astype(int).plot.hist();\n",
        "\n",
        "# Number of each type of column\n",
        "app_train.dtypes.value_counts()\n",
        "\n"
      ],
      "execution_count": 0,
      "outputs": [
        {
          "output_type": "stream",
          "text": [
            "Training data shape:  (307511, 122)\n",
            "\n",
            "\n",
            "Head\n",
            "    SK_ID_CURR  TARGET  ... AMT_REQ_CREDIT_BUREAU_QRT AMT_REQ_CREDIT_BUREAU_YEAR\n",
            "0      100002       1  ...                       0.0                        1.0\n",
            "1      100003       0  ...                       0.0                        0.0\n",
            "2      100004       0  ...                       0.0                        0.0\n",
            "3      100006       0  ...                       NaN                        NaN\n",
            "4      100007       0  ...                       0.0                        0.0\n",
            "\n",
            "[5 rows x 122 columns]\n",
            "\n",
            "\n",
            "dtypes\n",
            " SK_ID_CURR                      int64\n",
            "TARGET                          int64\n",
            "NAME_CONTRACT_TYPE             object\n",
            "CODE_GENDER                    object\n",
            "FLAG_OWN_CAR                   object\n",
            "                               ...   \n",
            "AMT_REQ_CREDIT_BUREAU_DAY     float64\n",
            "AMT_REQ_CREDIT_BUREAU_WEEK    float64\n",
            "AMT_REQ_CREDIT_BUREAU_MON     float64\n",
            "AMT_REQ_CREDIT_BUREAU_QRT     float64\n",
            "AMT_REQ_CREDIT_BUREAU_YEAR    float64\n",
            "Length: 122, dtype: object\n",
            "\n",
            "\n",
            "dtype value counts\n",
            " float64    65\n",
            "int64      41\n",
            "object     16\n",
            "dtype: int64\n",
            "\n",
            "\n",
            "Describe\n",
            "\n",
            "Class=1, Count=24825, Percentage=8.073%\n",
            "Class=0, Count=282686, Percentage=91.927%\n"
          ],
          "name": "stdout"
        },
        {
          "output_type": "execute_result",
          "data": {
            "text/plain": [
              "float64    65\n",
              "int64      41\n",
              "object     16\n",
              "dtype: int64"
            ]
          },
          "metadata": {
            "tags": []
          },
          "execution_count": 2
        },
        {
          "output_type": "display_data",
          "data": {
            "image/png": "[encoded data removed]",
            "text/plain": [
              "<Figure size 432x288 with 1 Axes>"
            ]
          },
          "metadata": {
            "tags": []
          }
        }
      ]
    },
    {
      "cell_type": "code",
      "metadata": {
        "id": "jDQ6kz93DwRr",
        "colab_type": "code",
        "colab": {}
      },
      "source": [
        "# Function to calculate missing values by column \n",
        "def missing_values_table(df):\n",
        "  # Total missing values\n",
        "  mis_val = df.isnull().sum()\n",
        "        \n",
        "  # Percentage of missing values\n",
        "  mis_val_percent = 100 * df.isnull().sum() / len(df)\n",
        "        \n",
        "  # Make a table with the results\n",
        "  mis_val_table = pd.concat([mis_val, mis_val_percent], axis=1)\n",
        "        \n",
        "  # Rename the columns\n",
        "  mis_val_table_ren_columns = mis_val_table.rename(\n",
        "  columns = {0 : 'Missing Values', 1 : '% of Total Values'})\n",
        "        \n",
        "  # Sort the table by percentage of missing descending\n",
        "  mis_val_table_ren_columns = mis_val_table_ren_columns[\n",
        "            mis_val_table_ren_columns.iloc[:,1] != 0].sort_values(\n",
        "            '% of Total Values', ascending=False).round(1)\n",
        "        \n",
        "  # Print some summary information\n",
        "  print (\"Your selected dataframe has \" + str(df.shape[1]) + \" columns.\\n\"      \n",
        "            \"There are \" + str(mis_val_table_ren_columns.shape[0]) +\n",
        "              \" columns that have missing values.\")\n",
        "        \n",
        "  # Return the dataframe with missing information\n",
        "  return mis_val_table_ren_columns"
      ],
      "execution_count": 0,
      "outputs": []
    },
    {
      "cell_type": "code",
      "metadata": {
        "id": "6JWQCi19EGCq",
        "colab_type": "code",
        "outputId": "ee1a6da5-e6fd-41e4-958e-75b2cced0ace",
        "colab": {
          "base_uri": "https://localhost:8080/",
          "height": 1000
        }
      },
      "source": [
        "# Missing values statistics\n",
        "missing_values = missing_values_table(app_train)\n",
        "missing_values.head(50)"
      ],
      "execution_count": 0,
      "outputs": [
        {
          "output_type": "stream",
          "text": [
            "Your selected dataframe has 122 columns.\n",
            "There are 112 columns that have missing values.\n"
          ],
          "name": "stdout"
        },
        {
          "output_type": "execute_result",
          "data": {
            "text/html": [
              "<div>\n",
              "<style scoped>\n",
              "    .dataframe tbody tr th:only-of-type {\n",
              "        vertical-align: middle;\n",
              "    }\n",
              "\n",
              "    .dataframe tbody tr th {\n",
              "        vertical-align: top;\n",
              "    }\n",
              "\n",
              "    .dataframe thead th {\n",
              "        text-align: right;\n",
              "    }\n",
              "</style>\n",
              "<table border=\"1\" class=\"dataframe\">\n",
              "  <thead>\n",
              "    <tr style=\"text-align: right;\">\n",
              "      <th></th>\n",
              "      <th>Missing Values</th>\n",
              "      <th>% of Total Values</th>\n",
              "    </tr>\n",
              "  </thead>\n",
              "  <tbody>\n",
              "    <tr>\n",
              "      <th>COMMONAREA_MODE</th>\n",
              "      <td>175184</td>\n",
              "      <td>69.9</td>\n",
              "    </tr>\n",
              "    <tr>\n",
              "      <th>COMMONAREA_MEDI</th>\n",
              "      <td>175184</td>\n",
              "      <td>69.9</td>\n",
              "    </tr>\n",
              "    <tr>\n",
              "      <th>COMMONAREA_AVG</th>\n",
              "      <td>175184</td>\n",
              "      <td>69.9</td>\n",
              "    </tr>\n",
              "    <tr>\n",
              "      <th>NONLIVINGAPARTMENTS_MEDI</th>\n",
              "      <td>174033</td>\n",
              "      <td>69.5</td>\n",
              "    </tr>\n",
              "    <tr>\n",
              "      <th>NONLIVINGAPARTMENTS_MODE</th>\n",
              "      <td>174033</td>\n",
              "      <td>69.5</td>\n",
              "    </tr>\n",
              "    <tr>\n",
              "      <th>NONLIVINGAPARTMENTS_AVG</th>\n",
              "      <td>174033</td>\n",
              "      <td>69.5</td>\n",
              "    </tr>\n",
              "    <tr>\n",
              "      <th>FONDKAPREMONT_MODE</th>\n",
              "      <td>171446</td>\n",
              "      <td>68.4</td>\n",
              "    </tr>\n",
              "    <tr>\n",
              "      <th>LIVINGAPARTMENTS_AVG</th>\n",
              "      <td>171389</td>\n",
              "      <td>68.4</td>\n",
              "    </tr>\n",
              "    <tr>\n",
              "      <th>LIVINGAPARTMENTS_MODE</th>\n",
              "      <td>171389</td>\n",
              "      <td>68.4</td>\n",
              "    </tr>\n",
              "    <tr>\n",
              "      <th>LIVINGAPARTMENTS_MEDI</th>\n",
              "      <td>171389</td>\n",
              "      <td>68.4</td>\n",
              "    </tr>\n",
              "    <tr>\n",
              "      <th>FLOORSMIN_MEDI</th>\n",
              "      <td>170116</td>\n",
              "      <td>67.9</td>\n",
              "    </tr>\n",
              "    <tr>\n",
              "      <th>FLOORSMIN_MODE</th>\n",
              "      <td>170116</td>\n",
              "      <td>67.9</td>\n",
              "    </tr>\n",
              "    <tr>\n",
              "      <th>FLOORSMIN_AVG</th>\n",
              "      <td>170116</td>\n",
              "      <td>67.9</td>\n",
              "    </tr>\n",
              "    <tr>\n",
              "      <th>YEARS_BUILD_AVG</th>\n",
              "      <td>166735</td>\n",
              "      <td>66.6</td>\n",
              "    </tr>\n",
              "    <tr>\n",
              "      <th>YEARS_BUILD_MODE</th>\n",
              "      <td>166735</td>\n",
              "      <td>66.6</td>\n",
              "    </tr>\n",
              "    <tr>\n",
              "      <th>YEARS_BUILD_MEDI</th>\n",
              "      <td>166735</td>\n",
              "      <td>66.6</td>\n",
              "    </tr>\n",
              "    <tr>\n",
              "      <th>OWN_CAR_AGE</th>\n",
              "      <td>165462</td>\n",
              "      <td>66.1</td>\n",
              "    </tr>\n",
              "    <tr>\n",
              "      <th>LANDAREA_MEDI</th>\n",
              "      <td>148977</td>\n",
              "      <td>59.5</td>\n",
              "    </tr>\n",
              "    <tr>\n",
              "      <th>LANDAREA_AVG</th>\n",
              "      <td>148977</td>\n",
              "      <td>59.5</td>\n",
              "    </tr>\n",
              "    <tr>\n",
              "      <th>LANDAREA_MODE</th>\n",
              "      <td>148977</td>\n",
              "      <td>59.5</td>\n",
              "    </tr>\n",
              "    <tr>\n",
              "      <th>BASEMENTAREA_MEDI</th>\n",
              "      <td>146815</td>\n",
              "      <td>58.6</td>\n",
              "    </tr>\n",
              "    <tr>\n",
              "      <th>BASEMENTAREA_AVG</th>\n",
              "      <td>146815</td>\n",
              "      <td>58.6</td>\n",
              "    </tr>\n",
              "    <tr>\n",
              "      <th>BASEMENTAREA_MODE</th>\n",
              "      <td>146815</td>\n",
              "      <td>58.6</td>\n",
              "    </tr>\n",
              "    <tr>\n",
              "      <th>EXT_SOURCE_1</th>\n",
              "      <td>141211</td>\n",
              "      <td>56.4</td>\n",
              "    </tr>\n",
              "    <tr>\n",
              "      <th>NONLIVINGAREA_AVG</th>\n",
              "      <td>138395</td>\n",
              "      <td>55.2</td>\n",
              "    </tr>\n",
              "    <tr>\n",
              "      <th>NONLIVINGAREA_MODE</th>\n",
              "      <td>138395</td>\n",
              "      <td>55.2</td>\n",
              "    </tr>\n",
              "    <tr>\n",
              "      <th>NONLIVINGAREA_MEDI</th>\n",
              "      <td>138395</td>\n",
              "      <td>55.2</td>\n",
              "    </tr>\n",
              "    <tr>\n",
              "      <th>ELEVATORS_MEDI</th>\n",
              "      <td>133699</td>\n",
              "      <td>53.4</td>\n",
              "    </tr>\n",
              "    <tr>\n",
              "      <th>ELEVATORS_MODE</th>\n",
              "      <td>133699</td>\n",
              "      <td>53.4</td>\n",
              "    </tr>\n",
              "    <tr>\n",
              "      <th>ELEVATORS_AVG</th>\n",
              "      <td>133699</td>\n",
              "      <td>53.4</td>\n",
              "    </tr>\n",
              "    <tr>\n",
              "      <th>WALLSMATERIAL_MODE</th>\n",
              "      <td>127554</td>\n",
              "      <td>50.9</td>\n",
              "    </tr>\n",
              "    <tr>\n",
              "      <th>APARTMENTS_MODE</th>\n",
              "      <td>127369</td>\n",
              "      <td>50.8</td>\n",
              "    </tr>\n",
              "    <tr>\n",
              "      <th>APARTMENTS_AVG</th>\n",
              "      <td>127369</td>\n",
              "      <td>50.8</td>\n",
              "    </tr>\n",
              "    <tr>\n",
              "      <th>APARTMENTS_MEDI</th>\n",
              "      <td>127369</td>\n",
              "      <td>50.8</td>\n",
              "    </tr>\n",
              "    <tr>\n",
              "      <th>ENTRANCES_MEDI</th>\n",
              "      <td>126327</td>\n",
              "      <td>50.4</td>\n",
              "    </tr>\n",
              "    <tr>\n",
              "      <th>ENTRANCES_MODE</th>\n",
              "      <td>126327</td>\n",
              "      <td>50.4</td>\n",
              "    </tr>\n",
              "    <tr>\n",
              "      <th>ENTRANCES_AVG</th>\n",
              "      <td>126327</td>\n",
              "      <td>50.4</td>\n",
              "    </tr>\n",
              "    <tr>\n",
              "      <th>HOUSETYPE_MODE</th>\n",
              "      <td>125933</td>\n",
              "      <td>50.3</td>\n",
              "    </tr>\n",
              "    <tr>\n",
              "      <th>LIVINGAREA_MODE</th>\n",
              "      <td>125901</td>\n",
              "      <td>50.3</td>\n",
              "    </tr>\n",
              "    <tr>\n",
              "      <th>LIVINGAREA_MEDI</th>\n",
              "      <td>125901</td>\n",
              "      <td>50.3</td>\n",
              "    </tr>\n",
              "    <tr>\n",
              "      <th>LIVINGAREA_AVG</th>\n",
              "      <td>125901</td>\n",
              "      <td>50.3</td>\n",
              "    </tr>\n",
              "    <tr>\n",
              "      <th>FLOORSMAX_AVG</th>\n",
              "      <td>124839</td>\n",
              "      <td>49.8</td>\n",
              "    </tr>\n",
              "    <tr>\n",
              "      <th>FLOORSMAX_MODE</th>\n",
              "      <td>124839</td>\n",
              "      <td>49.8</td>\n",
              "    </tr>\n",
              "    <tr>\n",
              "      <th>FLOORSMAX_MEDI</th>\n",
              "      <td>124839</td>\n",
              "      <td>49.8</td>\n",
              "    </tr>\n",
              "    <tr>\n",
              "      <th>YEARS_BEGINEXPLUATATION_AVG</th>\n",
              "      <td>122344</td>\n",
              "      <td>48.8</td>\n",
              "    </tr>\n",
              "    <tr>\n",
              "      <th>YEARS_BEGINEXPLUATATION_MODE</th>\n",
              "      <td>122344</td>\n",
              "      <td>48.8</td>\n",
              "    </tr>\n",
              "    <tr>\n",
              "      <th>YEARS_BEGINEXPLUATATION_MEDI</th>\n",
              "      <td>122344</td>\n",
              "      <td>48.8</td>\n",
              "    </tr>\n",
              "    <tr>\n",
              "      <th>TOTALAREA_MODE</th>\n",
              "      <td>121070</td>\n",
              "      <td>48.3</td>\n",
              "    </tr>\n",
              "    <tr>\n",
              "      <th>EMERGENCYSTATE_MODE</th>\n",
              "      <td>118873</td>\n",
              "      <td>47.5</td>\n",
              "    </tr>\n",
              "    <tr>\n",
              "      <th>OCCUPATION_TYPE</th>\n",
              "      <td>78557</td>\n",
              "      <td>31.4</td>\n",
              "    </tr>\n",
              "  </tbody>\n",
              "</table>\n",
              "</div>"
            ],
            "text/plain": [
              "                              Missing Values  % of Total Values\n",
              "COMMONAREA_MODE                       175184               69.9\n",
              "COMMONAREA_MEDI                       175184               69.9\n",
              "COMMONAREA_AVG                        175184               69.9\n",
              "NONLIVINGAPARTMENTS_MEDI              174033               69.5\n",
              "NONLIVINGAPARTMENTS_MODE              174033               69.5\n",
              "NONLIVINGAPARTMENTS_AVG               174033               69.5\n",
              "FONDKAPREMONT_MODE                    171446               68.4\n",
              "LIVINGAPARTMENTS_AVG                  171389               68.4\n",
              "LIVINGAPARTMENTS_MODE                 171389               68.4\n",
              "LIVINGAPARTMENTS_MEDI                 171389               68.4\n",
              "FLOORSMIN_MEDI                        170116               67.9\n",
              "FLOORSMIN_MODE                        170116               67.9\n",
              "FLOORSMIN_AVG                         170116               67.9\n",
              "YEARS_BUILD_AVG                       166735               66.6\n",
              "YEARS_BUILD_MODE                      166735               66.6\n",
              "YEARS_BUILD_MEDI                      166735               66.6\n",
              "OWN_CAR_AGE                           165462               66.1\n",
              "LANDAREA_MEDI                         148977               59.5\n",
              "LANDAREA_AVG                          148977               59.5\n",
              "LANDAREA_MODE                         148977               59.5\n",
              "BASEMENTAREA_MEDI                     146815               58.6\n",
              "BASEMENTAREA_AVG                      146815               58.6\n",
              "BASEMENTAREA_MODE                     146815               58.6\n",
              "EXT_SOURCE_1                          141211               56.4\n",
              "NONLIVINGAREA_AVG                     138395               55.2\n",
              "NONLIVINGAREA_MODE                    138395               55.2\n",
              "NONLIVINGAREA_MEDI                    138395               55.2\n",
              "ELEVATORS_MEDI                        133699               53.4\n",
              "ELEVATORS_MODE                        133699               53.4\n",
              "ELEVATORS_AVG                         133699               53.4\n",
              "WALLSMATERIAL_MODE                    127554               50.9\n",
              "APARTMENTS_MODE                       127369               50.8\n",
              "APARTMENTS_AVG                        127369               50.8\n",
              "APARTMENTS_MEDI                       127369               50.8\n",
              "ENTRANCES_MEDI                        126327               50.4\n",
              "ENTRANCES_MODE                        126327               50.4\n",
              "ENTRANCES_AVG                         126327               50.4\n",
              "HOUSETYPE_MODE                        125933               50.3\n",
              "LIVINGAREA_MODE                       125901               50.3\n",
              "LIVINGAREA_MEDI                       125901               50.3\n",
              "LIVINGAREA_AVG                        125901               50.3\n",
              "FLOORSMAX_AVG                         124839               49.8\n",
              "FLOORSMAX_MODE                        124839               49.8\n",
              "FLOORSMAX_MEDI                        124839               49.8\n",
              "YEARS_BEGINEXPLUATATION_AVG           122344               48.8\n",
              "YEARS_BEGINEXPLUATATION_MODE          122344               48.8\n",
              "YEARS_BEGINEXPLUATATION_MEDI          122344               48.8\n",
              "TOTALAREA_MODE                        121070               48.3\n",
              "EMERGENCYSTATE_MODE                   118873               47.5\n",
              "OCCUPATION_TYPE                        78557               31.4"
            ]
          },
          "metadata": {
            "tags": []
          },
          "execution_count": 26
        }
      ]
    },
    {
      "cell_type": "code",
      "metadata": {
        "id": "hPBsYvZRF50l",
        "colab_type": "code",
        "outputId": "5d28b3de-4830-4739-8010-741eed33be6c",
        "colab": {
          "base_uri": "https://localhost:8080/",
          "height": 330
        }
      },
      "source": [
        "# Number of unique classes in each object column\n",
        "print('categorical columns: num unique values')\n",
        "app_train.select_dtypes('object').apply(pd.Series.nunique, axis = 0)"
      ],
      "execution_count": 0,
      "outputs": [
        {
          "output_type": "stream",
          "text": [
            "categorical columns: num unique values\n"
          ],
          "name": "stdout"
        },
        {
          "output_type": "execute_result",
          "data": {
            "text/plain": [
              "NAME_CONTRACT_TYPE             2\n",
              "CODE_GENDER                    3\n",
              "FLAG_OWN_CAR                   2\n",
              "FLAG_OWN_REALTY                2\n",
              "NAME_TYPE_SUITE                7\n",
              "NAME_INCOME_TYPE               9\n",
              "NAME_EDUCATION_TYPE            5\n",
              "NAME_FAMILY_STATUS             6\n",
              "NAME_HOUSING_TYPE              6\n",
              "OCCUPATION_TYPE               18\n",
              "WEEKDAY_APPR_PROCESS_START     7\n",
              "ORGANIZATION_TYPE             58\n",
              "FONDKAPREMONT_MODE             4\n",
              "HOUSETYPE_MODE                 3\n",
              "WALLSMATERIAL_MODE             7\n",
              "EMERGENCYSTATE_MODE            2\n",
              "dtype: int64"
            ]
          },
          "metadata": {
            "tags": []
          },
          "execution_count": 27
        }
      ]
    },
    {
      "cell_type": "code",
      "metadata": {
        "id": "Y5ulmIj3d1_x",
        "colab_type": "code",
        "outputId": "546a3bd2-fb48-480b-ff47-4a1cab7a36bf",
        "colab": {
          "base_uri": "https://localhost:8080/",
          "height": 325
        }
      },
      "source": [
        "# Load Test data \n",
        "app_test = pd.read_csv('application_test.csv')\n",
        "print('Testing data shape: ', app_test.shape)\n",
        "app_test.head()"
      ],
      "execution_count": 0,
      "outputs": [
        {
          "output_type": "stream",
          "text": [
            "Testing data shape:  (48744, 121)\n"
          ],
          "name": "stdout"
        },
        {
          "output_type": "execute_result",
          "data": {
            "text/html": [
              "<div>\n",
              "<style scoped>\n",
              "    .dataframe tbody tr th:only-of-type {\n",
              "        vertical-align: middle;\n",
              "    }\n",
              "\n",
              "    .dataframe tbody tr th {\n",
              "        vertical-align: top;\n",
              "    }\n",
              "\n",
              "    .dataframe thead th {\n",
              "        text-align: right;\n",
              "    }\n",
              "</style>\n",
              "<table border=\"1\" class=\"dataframe\">\n",
              "  <thead>\n",
              "    <tr style=\"text-align: right;\">\n",
              "      <th></th>\n",
              "      <th>SK_ID_CURR</th>\n",
              "      <th>NAME_CONTRACT_TYPE</th>\n",
              "      <th>CODE_GENDER</th>\n",
              "      <th>FLAG_OWN_CAR</th>\n",
              "      <th>FLAG_OWN_REALTY</th>\n",
              "      <th>CNT_CHILDREN</th>\n",
              "      <th>AMT_INCOME_TOTAL</th>\n",
              "      <th>AMT_CREDIT</th>\n",
              "      <th>AMT_ANNUITY</th>\n",
              "      <th>AMT_GOODS_PRICE</th>\n",
              "      <th>NAME_TYPE_SUITE</th>\n",
              "      <th>NAME_INCOME_TYPE</th>\n",
              "      <th>NAME_EDUCATION_TYPE</th>\n",
              "      <th>NAME_FAMILY_STATUS</th>\n",
              "      <th>NAME_HOUSING_TYPE</th>\n",
              "      <th>REGION_POPULATION_RELATIVE</th>\n",
              "      <th>DAYS_BIRTH</th>\n",
              "      <th>DAYS_EMPLOYED</th>\n",
              "      <th>DAYS_REGISTRATION</th>\n",
              "      <th>DAYS_ID_PUBLISH</th>\n",
              "      <th>OWN_CAR_AGE</th>\n",
              "      <th>FLAG_MOBIL</th>\n",
              "      <th>FLAG_EMP_PHONE</th>\n",
              "      <th>FLAG_WORK_PHONE</th>\n",
              "      <th>FLAG_CONT_MOBILE</th>\n",
              "      <th>FLAG_PHONE</th>\n",
              "      <th>FLAG_EMAIL</th>\n",
              "      <th>OCCUPATION_TYPE</th>\n",
              "      <th>CNT_FAM_MEMBERS</th>\n",
              "      <th>REGION_RATING_CLIENT</th>\n",
              "      <th>REGION_RATING_CLIENT_W_CITY</th>\n",
              "      <th>WEEKDAY_APPR_PROCESS_START</th>\n",
              "      <th>HOUR_APPR_PROCESS_START</th>\n",
              "      <th>REG_REGION_NOT_LIVE_REGION</th>\n",
              "      <th>REG_REGION_NOT_WORK_REGION</th>\n",
              "      <th>LIVE_REGION_NOT_WORK_REGION</th>\n",
              "      <th>REG_CITY_NOT_LIVE_CITY</th>\n",
              "      <th>REG_CITY_NOT_WORK_CITY</th>\n",
              "      <th>LIVE_CITY_NOT_WORK_CITY</th>\n",
              "      <th>ORGANIZATION_TYPE</th>\n",
              "      <th>...</th>\n",
              "      <th>LIVINGAPARTMENTS_MEDI</th>\n",
              "      <th>LIVINGAREA_MEDI</th>\n",
              "      <th>NONLIVINGAPARTMENTS_MEDI</th>\n",
              "      <th>NONLIVINGAREA_MEDI</th>\n",
              "      <th>FONDKAPREMONT_MODE</th>\n",
              "      <th>HOUSETYPE_MODE</th>\n",
              "      <th>TOTALAREA_MODE</th>\n",
              "      <th>WALLSMATERIAL_MODE</th>\n",
              "      <th>EMERGENCYSTATE_MODE</th>\n",
              "      <th>OBS_30_CNT_SOCIAL_CIRCLE</th>\n",
              "      <th>DEF_30_CNT_SOCIAL_CIRCLE</th>\n",
              "      <th>OBS_60_CNT_SOCIAL_CIRCLE</th>\n",
              "      <th>DEF_60_CNT_SOCIAL_CIRCLE</th>\n",
              "      <th>DAYS_LAST_PHONE_CHANGE</th>\n",
              "      <th>FLAG_DOCUMENT_2</th>\n",
              "      <th>FLAG_DOCUMENT_3</th>\n",
              "      <th>FLAG_DOCUMENT_4</th>\n",
              "      <th>FLAG_DOCUMENT_5</th>\n",
              "      <th>FLAG_DOCUMENT_6</th>\n",
              "      <th>FLAG_DOCUMENT_7</th>\n",
              "      <th>FLAG_DOCUMENT_8</th>\n",
              "      <th>FLAG_DOCUMENT_9</th>\n",
              "      <th>FLAG_DOCUMENT_10</th>\n",
              "      <th>FLAG_DOCUMENT_11</th>\n",
              "      <th>FLAG_DOCUMENT_12</th>\n",
              "      <th>FLAG_DOCUMENT_13</th>\n",
              "      <th>FLAG_DOCUMENT_14</th>\n",
              "      <th>FLAG_DOCUMENT_15</th>\n",
              "      <th>FLAG_DOCUMENT_16</th>\n",
              "      <th>FLAG_DOCUMENT_17</th>\n",
              "      <th>FLAG_DOCUMENT_18</th>\n",
              "      <th>FLAG_DOCUMENT_19</th>\n",
              "      <th>FLAG_DOCUMENT_20</th>\n",
              "      <th>FLAG_DOCUMENT_21</th>\n",
              "      <th>AMT_REQ_CREDIT_BUREAU_HOUR</th>\n",
              "      <th>AMT_REQ_CREDIT_BUREAU_DAY</th>\n",
              "      <th>AMT_REQ_CREDIT_BUREAU_WEEK</th>\n",
              "      <th>AMT_REQ_CREDIT_BUREAU_MON</th>\n",
              "      <th>AMT_REQ_CREDIT_BUREAU_QRT</th>\n",
              "      <th>AMT_REQ_CREDIT_BUREAU_YEAR</th>\n",
              "    </tr>\n",
              "  </thead>\n",
              "  <tbody>\n",
              "    <tr>\n",
              "      <th>0</th>\n",
              "      <td>100001</td>\n",
              "      <td>Cash loans</td>\n",
              "      <td>F</td>\n",
              "      <td>N</td>\n",
              "      <td>Y</td>\n",
              "      <td>0</td>\n",
              "      <td>135000.0</td>\n",
              "      <td>568800.0</td>\n",
              "      <td>20560.5</td>\n",
              "      <td>450000.0</td>\n",
              "      <td>Unaccompanied</td>\n",
              "      <td>Working</td>\n",
              "      <td>Higher education</td>\n",
              "      <td>Married</td>\n",
              "      <td>House / apartment</td>\n",
              "      <td>0.018850</td>\n",
              "      <td>-19241</td>\n",
              "      <td>-2329</td>\n",
              "      <td>-5170.0</td>\n",
              "      <td>-812</td>\n",
              "      <td>NaN</td>\n",
              "      <td>1</td>\n",
              "      <td>1</td>\n",
              "      <td>0</td>\n",
              "      <td>1</td>\n",
              "      <td>0</td>\n",
              "      <td>1</td>\n",
              "      <td>NaN</td>\n",
              "      <td>2.0</td>\n",
              "      <td>2</td>\n",
              "      <td>2</td>\n",
              "      <td>TUESDAY</td>\n",
              "      <td>18</td>\n",
              "      <td>0</td>\n",
              "      <td>0</td>\n",
              "      <td>0</td>\n",
              "      <td>0</td>\n",
              "      <td>0</td>\n",
              "      <td>0</td>\n",
              "      <td>Kindergarten</td>\n",
              "      <td>...</td>\n",
              "      <td>NaN</td>\n",
              "      <td>0.0514</td>\n",
              "      <td>NaN</td>\n",
              "      <td>NaN</td>\n",
              "      <td>NaN</td>\n",
              "      <td>block of flats</td>\n",
              "      <td>0.0392</td>\n",
              "      <td>Stone, brick</td>\n",
              "      <td>No</td>\n",
              "      <td>0.0</td>\n",
              "      <td>0.0</td>\n",
              "      <td>0.0</td>\n",
              "      <td>0.0</td>\n",
              "      <td>-1740.0</td>\n",
              "      <td>0</td>\n",
              "      <td>1</td>\n",
              "      <td>0</td>\n",
              "      <td>0</td>\n",
              "      <td>0</td>\n",
              "      <td>0</td>\n",
              "      <td>0</td>\n",
              "      <td>0</td>\n",
              "      <td>0</td>\n",
              "      <td>0</td>\n",
              "      <td>0</td>\n",
              "      <td>0</td>\n",
              "      <td>0</td>\n",
              "      <td>0</td>\n",
              "      <td>0</td>\n",
              "      <td>0</td>\n",
              "      <td>0</td>\n",
              "      <td>0</td>\n",
              "      <td>0</td>\n",
              "      <td>0</td>\n",
              "      <td>0.0</td>\n",
              "      <td>0.0</td>\n",
              "      <td>0.0</td>\n",
              "      <td>0.0</td>\n",
              "      <td>0.0</td>\n",
              "      <td>0.0</td>\n",
              "    </tr>\n",
              "    <tr>\n",
              "      <th>1</th>\n",
              "      <td>100005</td>\n",
              "      <td>Cash loans</td>\n",
              "      <td>M</td>\n",
              "      <td>N</td>\n",
              "      <td>Y</td>\n",
              "      <td>0</td>\n",
              "      <td>99000.0</td>\n",
              "      <td>222768.0</td>\n",
              "      <td>17370.0</td>\n",
              "      <td>180000.0</td>\n",
              "      <td>Unaccompanied</td>\n",
              "      <td>Working</td>\n",
              "      <td>Secondary / secondary special</td>\n",
              "      <td>Married</td>\n",
              "      <td>House / apartment</td>\n",
              "      <td>0.035792</td>\n",
              "      <td>-18064</td>\n",
              "      <td>-4469</td>\n",
              "      <td>-9118.0</td>\n",
              "      <td>-1623</td>\n",
              "      <td>NaN</td>\n",
              "      <td>1</td>\n",
              "      <td>1</td>\n",
              "      <td>0</td>\n",
              "      <td>1</td>\n",
              "      <td>0</td>\n",
              "      <td>0</td>\n",
              "      <td>Low-skill Laborers</td>\n",
              "      <td>2.0</td>\n",
              "      <td>2</td>\n",
              "      <td>2</td>\n",
              "      <td>FRIDAY</td>\n",
              "      <td>9</td>\n",
              "      <td>0</td>\n",
              "      <td>0</td>\n",
              "      <td>0</td>\n",
              "      <td>0</td>\n",
              "      <td>0</td>\n",
              "      <td>0</td>\n",
              "      <td>Self-employed</td>\n",
              "      <td>...</td>\n",
              "      <td>NaN</td>\n",
              "      <td>NaN</td>\n",
              "      <td>NaN</td>\n",
              "      <td>NaN</td>\n",
              "      <td>NaN</td>\n",
              "      <td>NaN</td>\n",
              "      <td>NaN</td>\n",
              "      <td>NaN</td>\n",
              "      <td>NaN</td>\n",
              "      <td>0.0</td>\n",
              "      <td>0.0</td>\n",
              "      <td>0.0</td>\n",
              "      <td>0.0</td>\n",
              "      <td>0.0</td>\n",
              "      <td>0</td>\n",
              "      <td>1</td>\n",
              "      <td>0</td>\n",
              "      <td>0</td>\n",
              "      <td>0</td>\n",
              "      <td>0</td>\n",
              "      <td>0</td>\n",
              "      <td>0</td>\n",
              "      <td>0</td>\n",
              "      <td>0</td>\n",
              "      <td>0</td>\n",
              "      <td>0</td>\n",
              "      <td>0</td>\n",
              "      <td>0</td>\n",
              "      <td>0</td>\n",
              "      <td>0</td>\n",
              "      <td>0</td>\n",
              "      <td>0</td>\n",
              "      <td>0</td>\n",
              "      <td>0</td>\n",
              "      <td>0.0</td>\n",
              "      <td>0.0</td>\n",
              "      <td>0.0</td>\n",
              "      <td>0.0</td>\n",
              "      <td>0.0</td>\n",
              "      <td>3.0</td>\n",
              "    </tr>\n",
              "    <tr>\n",
              "      <th>2</th>\n",
              "      <td>100013</td>\n",
              "      <td>Cash loans</td>\n",
              "      <td>M</td>\n",
              "      <td>Y</td>\n",
              "      <td>Y</td>\n",
              "      <td>0</td>\n",
              "      <td>202500.0</td>\n",
              "      <td>663264.0</td>\n",
              "      <td>69777.0</td>\n",
              "      <td>630000.0</td>\n",
              "      <td>NaN</td>\n",
              "      <td>Working</td>\n",
              "      <td>Higher education</td>\n",
              "      <td>Married</td>\n",
              "      <td>House / apartment</td>\n",
              "      <td>0.019101</td>\n",
              "      <td>-20038</td>\n",
              "      <td>-4458</td>\n",
              "      <td>-2175.0</td>\n",
              "      <td>-3503</td>\n",
              "      <td>5.0</td>\n",
              "      <td>1</td>\n",
              "      <td>1</td>\n",
              "      <td>0</td>\n",
              "      <td>1</td>\n",
              "      <td>0</td>\n",
              "      <td>0</td>\n",
              "      <td>Drivers</td>\n",
              "      <td>2.0</td>\n",
              "      <td>2</td>\n",
              "      <td>2</td>\n",
              "      <td>MONDAY</td>\n",
              "      <td>14</td>\n",
              "      <td>0</td>\n",
              "      <td>0</td>\n",
              "      <td>0</td>\n",
              "      <td>0</td>\n",
              "      <td>0</td>\n",
              "      <td>0</td>\n",
              "      <td>Transport: type 3</td>\n",
              "      <td>...</td>\n",
              "      <td>NaN</td>\n",
              "      <td>NaN</td>\n",
              "      <td>NaN</td>\n",
              "      <td>NaN</td>\n",
              "      <td>NaN</td>\n",
              "      <td>NaN</td>\n",
              "      <td>NaN</td>\n",
              "      <td>NaN</td>\n",
              "      <td>NaN</td>\n",
              "      <td>0.0</td>\n",
              "      <td>0.0</td>\n",
              "      <td>0.0</td>\n",
              "      <td>0.0</td>\n",
              "      <td>-856.0</td>\n",
              "      <td>0</td>\n",
              "      <td>0</td>\n",
              "      <td>0</td>\n",
              "      <td>0</td>\n",
              "      <td>0</td>\n",
              "      <td>0</td>\n",
              "      <td>1</td>\n",
              "      <td>0</td>\n",
              "      <td>0</td>\n",
              "      <td>0</td>\n",
              "      <td>0</td>\n",
              "      <td>0</td>\n",
              "      <td>0</td>\n",
              "      <td>0</td>\n",
              "      <td>0</td>\n",
              "      <td>0</td>\n",
              "      <td>0</td>\n",
              "      <td>0</td>\n",
              "      <td>0</td>\n",
              "      <td>0</td>\n",
              "      <td>0.0</td>\n",
              "      <td>0.0</td>\n",
              "      <td>0.0</td>\n",
              "      <td>0.0</td>\n",
              "      <td>1.0</td>\n",
              "      <td>4.0</td>\n",
              "    </tr>\n",
              "    <tr>\n",
              "      <th>3</th>\n",
              "      <td>100028</td>\n",
              "      <td>Cash loans</td>\n",
              "      <td>F</td>\n",
              "      <td>N</td>\n",
              "      <td>Y</td>\n",
              "      <td>2</td>\n",
              "      <td>315000.0</td>\n",
              "      <td>1575000.0</td>\n",
              "      <td>49018.5</td>\n",
              "      <td>1575000.0</td>\n",
              "      <td>Unaccompanied</td>\n",
              "      <td>Working</td>\n",
              "      <td>Secondary / secondary special</td>\n",
              "      <td>Married</td>\n",
              "      <td>House / apartment</td>\n",
              "      <td>0.026392</td>\n",
              "      <td>-13976</td>\n",
              "      <td>-1866</td>\n",
              "      <td>-2000.0</td>\n",
              "      <td>-4208</td>\n",
              "      <td>NaN</td>\n",
              "      <td>1</td>\n",
              "      <td>1</td>\n",
              "      <td>0</td>\n",
              "      <td>1</td>\n",
              "      <td>1</td>\n",
              "      <td>0</td>\n",
              "      <td>Sales staff</td>\n",
              "      <td>4.0</td>\n",
              "      <td>2</td>\n",
              "      <td>2</td>\n",
              "      <td>WEDNESDAY</td>\n",
              "      <td>11</td>\n",
              "      <td>0</td>\n",
              "      <td>0</td>\n",
              "      <td>0</td>\n",
              "      <td>0</td>\n",
              "      <td>0</td>\n",
              "      <td>0</td>\n",
              "      <td>Business Entity Type 3</td>\n",
              "      <td>...</td>\n",
              "      <td>0.2446</td>\n",
              "      <td>0.3739</td>\n",
              "      <td>0.0388</td>\n",
              "      <td>0.0817</td>\n",
              "      <td>reg oper account</td>\n",
              "      <td>block of flats</td>\n",
              "      <td>0.3700</td>\n",
              "      <td>Panel</td>\n",
              "      <td>No</td>\n",
              "      <td>0.0</td>\n",
              "      <td>0.0</td>\n",
              "      <td>0.0</td>\n",
              "      <td>0.0</td>\n",
              "      <td>-1805.0</td>\n",
              "      <td>0</td>\n",
              "      <td>1</td>\n",
              "      <td>0</td>\n",
              "      <td>0</td>\n",
              "      <td>0</td>\n",
              "      <td>0</td>\n",
              "      <td>0</td>\n",
              "      <td>0</td>\n",
              "      <td>0</td>\n",
              "      <td>0</td>\n",
              "      <td>0</td>\n",
              "      <td>0</td>\n",
              "      <td>0</td>\n",
              "      <td>0</td>\n",
              "      <td>0</td>\n",
              "      <td>0</td>\n",
              "      <td>0</td>\n",
              "      <td>0</td>\n",
              "      <td>0</td>\n",
              "      <td>0</td>\n",
              "      <td>0.0</td>\n",
              "      <td>0.0</td>\n",
              "      <td>0.0</td>\n",
              "      <td>0.0</td>\n",
              "      <td>0.0</td>\n",
              "      <td>3.0</td>\n",
              "    </tr>\n",
              "    <tr>\n",
              "      <th>4</th>\n",
              "      <td>100038</td>\n",
              "      <td>Cash loans</td>\n",
              "      <td>M</td>\n",
              "      <td>Y</td>\n",
              "      <td>N</td>\n",
              "      <td>1</td>\n",
              "      <td>180000.0</td>\n",
              "      <td>625500.0</td>\n",
              "      <td>32067.0</td>\n",
              "      <td>625500.0</td>\n",
              "      <td>Unaccompanied</td>\n",
              "      <td>Working</td>\n",
              "      <td>Secondary / secondary special</td>\n",
              "      <td>Married</td>\n",
              "      <td>House / apartment</td>\n",
              "      <td>0.010032</td>\n",
              "      <td>-13040</td>\n",
              "      <td>-2191</td>\n",
              "      <td>-4000.0</td>\n",
              "      <td>-4262</td>\n",
              "      <td>16.0</td>\n",
              "      <td>1</td>\n",
              "      <td>1</td>\n",
              "      <td>1</td>\n",
              "      <td>1</td>\n",
              "      <td>0</td>\n",
              "      <td>0</td>\n",
              "      <td>NaN</td>\n",
              "      <td>3.0</td>\n",
              "      <td>2</td>\n",
              "      <td>2</td>\n",
              "      <td>FRIDAY</td>\n",
              "      <td>5</td>\n",
              "      <td>0</td>\n",
              "      <td>0</td>\n",
              "      <td>0</td>\n",
              "      <td>0</td>\n",
              "      <td>1</td>\n",
              "      <td>1</td>\n",
              "      <td>Business Entity Type 3</td>\n",
              "      <td>...</td>\n",
              "      <td>NaN</td>\n",
              "      <td>NaN</td>\n",
              "      <td>NaN</td>\n",
              "      <td>NaN</td>\n",
              "      <td>NaN</td>\n",
              "      <td>NaN</td>\n",
              "      <td>NaN</td>\n",
              "      <td>NaN</td>\n",
              "      <td>NaN</td>\n",
              "      <td>0.0</td>\n",
              "      <td>0.0</td>\n",
              "      <td>0.0</td>\n",
              "      <td>0.0</td>\n",
              "      <td>-821.0</td>\n",
              "      <td>0</td>\n",
              "      <td>1</td>\n",
              "      <td>0</td>\n",
              "      <td>0</td>\n",
              "      <td>0</td>\n",
              "      <td>0</td>\n",
              "      <td>0</td>\n",
              "      <td>0</td>\n",
              "      <td>0</td>\n",
              "      <td>0</td>\n",
              "      <td>0</td>\n",
              "      <td>0</td>\n",
              "      <td>0</td>\n",
              "      <td>0</td>\n",
              "      <td>0</td>\n",
              "      <td>0</td>\n",
              "      <td>0</td>\n",
              "      <td>0</td>\n",
              "      <td>0</td>\n",
              "      <td>0</td>\n",
              "      <td>NaN</td>\n",
              "      <td>NaN</td>\n",
              "      <td>NaN</td>\n",
              "      <td>NaN</td>\n",
              "      <td>NaN</td>\n",
              "      <td>NaN</td>\n",
              "    </tr>\n",
              "  </tbody>\n",
              "</table>\n",
              "<p>5 rows × 121 columns</p>\n",
              "</div>"
            ],
            "text/plain": [
              "   SK_ID_CURR  ... AMT_REQ_CREDIT_BUREAU_YEAR\n",
              "0      100001  ...                        0.0\n",
              "1      100005  ...                        3.0\n",
              "2      100013  ...                        4.0\n",
              "3      100028  ...                        3.0\n",
              "4      100038  ...                        NaN\n",
              "\n",
              "[5 rows x 121 columns]"
            ]
          },
          "metadata": {
            "tags": []
          },
          "execution_count": 3
        }
      ]
    },
    {
      "cell_type": "markdown",
      "metadata": {
        "id": "GaQQC9Tcd013",
        "colab_type": "text"
      },
      "source": [
        "for any categorical variable (dtype == object) with 2 unique categories, we will use label encoding, and for any categorical variable with more than 2 unique categories, we will use one-hot encoding.\n",
        "\n"
      ]
    },
    {
      "cell_type": "markdown",
      "metadata": {
        "id": "_QoJOFfYgySr",
        "colab_type": "text"
      },
      "source": [
        "Note: For machine learning, you almost definitely want to use sklearn.OneHotEncoder. The sklearn encoder creates a function which persists and can then be applied to new data sets which use the same categorical variables, with consistent results.\n",
        "\n",
        "Consider what happens if X_test contains different levels than X_train for one of its variables. For example, let's say X_train[\"color\"] contains only \"red\" and \"green\", but in addition to those, X_test[\"color\"] sometimes contains \"blue\".\n",
        "\n",
        "If we use pd.get_dummies, X_test will end up with an additional \"color_blue\" column which X_train doesn't have, and the inconsistency will probably break our code later on, especially if we are feeding X_test to an sklearn model which we trained on X_train.\n",
        "\n",
        "And if we want to process the data like this in production, where we're receiving a single example at a time, pd.get_dummies won't be of use.\n",
        "\n",
        "With sklearn.OneHotEncoder on the other hand, once we've created the encoder, we can reuse it to produce the same output every time, with columns only for \"red\" and \"green\". And we can explicitly control what happens when it encounters the new level \"blue\": if we think that's impossible, then we can tell it to throw an error with handle_unknown=\"error\"; otherwise we can tell it to continue and simply set the red and green columns to 0, with handle_unknown=\"ignore\""
      ]
    },
    {
      "cell_type": "code",
      "metadata": {
        "id": "POwBmmlAYtJe",
        "colab_type": "code",
        "colab": {}
      },
      "source": [
        "# This code uses pd.get_dummies\n",
        "# Advantage over OneHotEncoder: preserves the data in a DataFrame rather\n",
        "#     than a numpy array, e.g., preserves column names for future data analysis\n",
        "# Disadvantage: requires a bit more work to ensure train and test data\n",
        "#     end up with the same columns in the same order\n",
        "def OneHotEnc (train, test, train_target=''):\n",
        "  \n",
        "  # Remove target column from the training data before we encode\n",
        "  if train_target != '':\n",
        "    train_labels = train[train_target]\n",
        "    train = train.drop(train_target, axis=1)\n",
        "  \n",
        "  # select categorical features\n",
        "  cat_columns = train.select_dtypes(include=['object', 'bool']).columns\n",
        "  print('cat_columns =', cat_columns, '\\n')\n",
        "\n",
        "  # build dummy features in training data\n",
        "  train_processed = pd.get_dummies(train, prefix_sep=\"__\",\n",
        "                              columns=cat_columns)\n",
        "  \n",
        "  # capture new column names\n",
        "  cat_dummies = [col for col in train_processed \n",
        "               if \"__\" in col \n",
        "               and col.split(\"__\")[0] in cat_columns]\n",
        "  \n",
        "  # save the list of columns so we can enforce the order of columns later on\n",
        "  processed_columns = list(train_processed.columns[:])\n",
        "\n",
        "  # build dummy features in test data\n",
        "  test_processed = pd.get_dummies(test, prefix_sep=\"__\", \n",
        "                                   columns=cat_columns)\n",
        "  \n",
        "  # We may have test columns that are missing in train - remove them from test\n",
        "  for col in test_processed.columns:\n",
        "    if (\"__\" in col) and (col.split(\"__\")[0] in cat_columns) and col not in cat_dummies:\n",
        "        print(\"Removing additional feature {}\".format(col))\n",
        "        test_processed.drop(col, axis=1, inplace=True)\n",
        "\n",
        "  # We may have train columns that are missing in test - add them to test with value=0\n",
        "  for col in cat_dummies:\n",
        "    if col not in test_processed.columns:\n",
        "        print(\"Adding missing feature {}\".format(col))\n",
        "        test_processed[col] = 0\n",
        "\n",
        "  # We now have the same features in train and test\n",
        "  # But they may not be in the same order - re-order them\n",
        "  test_processed = test_processed[processed_columns]\n",
        "\n",
        "  # Add back target column to training data\n",
        "  if train_target != '':\n",
        "    train_processed['TARGET'] = train_labels\n",
        "\n",
        "  return train_processed, test_processed\n"
      ],
      "execution_count": 0,
      "outputs": []
    },
    {
      "cell_type": "code",
      "metadata": {
        "id": "5JczXgaNdmxf",
        "colab_type": "code",
        "outputId": "d565253e-23b8-49cd-b7d6-b66a4cbd50ec",
        "colab": {
          "base_uri": "https://localhost:8080/",
          "height": 260
        }
      },
      "source": [
        "# perform one-hot encoding on train and test data sets\n",
        "app_train, app_test = OneHotEnc (app_train, app_test, 'TARGET')\n",
        "print('\\nTraining data shape: ', app_train.shape)\n",
        "print('\\nTest data shape: ', app_test.shape)\n"
      ],
      "execution_count": 0,
      "outputs": [
        {
          "output_type": "stream",
          "text": [
            "cat_columns = Index(['NAME_CONTRACT_TYPE', 'CODE_GENDER', 'FLAG_OWN_CAR', 'FLAG_OWN_REALTY',\n",
            "       'NAME_TYPE_SUITE', 'NAME_INCOME_TYPE', 'NAME_EDUCATION_TYPE',\n",
            "       'NAME_FAMILY_STATUS', 'NAME_HOUSING_TYPE', 'OCCUPATION_TYPE',\n",
            "       'WEEKDAY_APPR_PROCESS_START', 'ORGANIZATION_TYPE', 'FONDKAPREMONT_MODE',\n",
            "       'HOUSETYPE_MODE', 'WALLSMATERIAL_MODE', 'EMERGENCYSTATE_MODE'],\n",
            "      dtype='object') \n",
            "\n",
            "Adding missing feature CODE_GENDER__XNA\n",
            "Adding missing feature NAME_INCOME_TYPE__Maternity leave\n",
            "Adding missing feature NAME_FAMILY_STATUS__Unknown\n",
            "\n",
            "Training data shape:  (307511, 246)\n",
            "\n",
            "Test data shape:  (48744, 245)\n"
          ],
          "name": "stdout"
        }
      ]
    },
    {
      "cell_type": "markdown",
      "metadata": {
        "id": "AZEJyjY7_37y",
        "colab_type": "text"
      },
      "source": [
        "The numbers in the DAYS_BIRTH column are negative because they are recorded relative to the current loan application. To see these stats in years, we can mutliple by -1 and divide by the number of days in a year:"
      ]
    },
    {
      "cell_type": "code",
      "metadata": {
        "id": "03epNO8-5IxC",
        "colab_type": "code",
        "outputId": "edfa1e86-7edf-4dd4-f15e-78416cbbd928",
        "colab": {
          "base_uri": "https://localhost:8080/",
          "height": 677
        }
      },
      "source": [
        "# data exploration\n",
        "print ('DAYS_BIRTH:', (app_train['DAYS_BIRTH'] / -365 ).describe())\n",
        "\n",
        "print('\\nDAYS_EMPLOYED', app_train['DAYS_EMPLOYED'].describe())\n",
        "app_train['DAYS_EMPLOYED'].plot.hist(title = 'Days Employment Histogram');\n",
        "plt.xlabel('Days Employment');\n",
        "plt.show()\n",
        "\n",
        "anom = app_train[app_train['DAYS_EMPLOYED'] >= 365243]\n",
        "non_anom = app_train[app_train['DAYS_EMPLOYED'] < 365243]\n",
        "print('The non-anomalies default on %0.2f%% of loans' % (100 * non_anom['TARGET'].mean()))\n",
        "print('The anomalies default on %0.2f%% of loans' % (100 * anom['TARGET'].mean()))\n",
        "print('There are %d anomalous days of employment' % len(anom))\n",
        "\n"
      ],
      "execution_count": 0,
      "outputs": [
        {
          "output_type": "stream",
          "text": [
            "DAYS_BIRTH: count    307511.000000\n",
            "mean         43.936973\n",
            "std          11.956133\n",
            "min          20.517808\n",
            "25%          34.008219\n",
            "50%          43.150685\n",
            "75%          53.923288\n",
            "max          69.120548\n",
            "Name: DAYS_BIRTH, dtype: float64\n",
            "\n",
            "DAYS_EMPLOYED count    307511.000000\n",
            "mean      63815.045904\n",
            "std      141275.766519\n",
            "min      -17912.000000\n",
            "25%       -2760.000000\n",
            "50%       -1213.000000\n",
            "75%        -289.000000\n",
            "max      365243.000000\n",
            "Name: DAYS_EMPLOYED, dtype: float64\n"
          ],
          "name": "stdout"
        },
        {
          "output_type": "display_data",
          "data": {
            "image/png": "[encoded data removed]",
            "text/plain": [
              "<Figure size 432x288 with 1 Axes>"
            ]
          },
          "metadata": {
            "tags": []
          }
        },
        {
          "output_type": "stream",
          "text": [
            "The non-anomalies default on 8.66% of loans\n",
            "The anomalies default on 5.40% of loans\n",
            "There are 55374 anomalous days of employment\n"
          ],
          "name": "stdout"
        }
      ]
    },
    {
      "cell_type": "code",
      "metadata": {
        "id": "pk22GYJEjo_9",
        "colab_type": "code",
        "outputId": "6d390aba-a4a7-417c-ecd8-5bae168f7691",
        "colab": {
          "base_uri": "https://localhost:8080/",
          "height": 295
        }
      },
      "source": [
        "# Create an anomalous flag column\n",
        "app_train['DAYS_EMPLOYED_ANOM'] = app_train[\"DAYS_EMPLOYED\"] >= 365243\n",
        "\n",
        "# Replace the anomalous values with nan\n",
        "app_train['DAYS_EMPLOYED'].replace({365243: np.nan}, inplace = True)\n",
        "\n",
        "app_train['DAYS_EMPLOYED'].plot.hist(title = 'Days Employment Histogram');\n",
        "plt.xlabel('Days Employment');\n",
        "plt.show()"
      ],
      "execution_count": 0,
      "outputs": [
        {
          "output_type": "display_data",
          "data": {
            "image/png": "[encoded data removed]",
            "text/plain": [
              "<Figure size 432x288 with 1 Axes>"
            ]
          },
          "metadata": {
            "tags": []
          }
        }
      ]
    },
    {
      "cell_type": "code",
      "metadata": {
        "id": "THmhP-JkkVw3",
        "colab_type": "code",
        "outputId": "72713cc1-8a20-45f9-bfc4-159ef65edddb",
        "colab": {
          "base_uri": "https://localhost:8080/",
          "height": 34
        }
      },
      "source": [
        "# add the anomoly column to the test data as well\n",
        "app_test['DAYS_EMPLOYED_ANOM'] = app_test[\"DAYS_EMPLOYED\"] == 365243\n",
        "app_test[\"DAYS_EMPLOYED\"].replace({365243: np.nan}, inplace = True)\n",
        "\n",
        "print('There are %d anomalies in the test data out of %d entries' % (app_test[\"DAYS_EMPLOYED_ANOM\"].sum(), len(app_test)))"
      ],
      "execution_count": 0,
      "outputs": [
        {
          "output_type": "stream",
          "text": [
            "There are 9274 anomalies in the test data out of 48744 entries\n"
          ],
          "name": "stdout"
        }
      ]
    },
    {
      "cell_type": "code",
      "metadata": {
        "id": "OurMl_HmlBil",
        "colab_type": "code",
        "outputId": "ff9e3aec-fb2e-4a9e-dbad-d61d7ec8862a",
        "colab": {
          "base_uri": "https://localhost:8080/",
          "height": 625
        }
      },
      "source": [
        "# Find correlations with the target and sort\n",
        "correlations = app_train.corr()['TARGET'].sort_values()\n",
        "\n",
        "# Display correlations\n",
        "print('Most Positive Correlations:\\n', correlations.tail(15))\n",
        "print('\\nMost Negative Correlations:\\n', correlations.head(15))"
      ],
      "execution_count": 0,
      "outputs": [
        {
          "output_type": "stream",
          "text": [
            "Most Positive Correlations:\n",
            " OCCUPATION_TYPE__Laborers                             0.043019\n",
            "FLAG_DOCUMENT_3                                       0.044346\n",
            "REG_CITY_NOT_LIVE_CITY                                0.044395\n",
            "FLAG_EMP_PHONE                                        0.045982\n",
            "NAME_EDUCATION_TYPE__Secondary / secondary special    0.049824\n",
            "REG_CITY_NOT_WORK_CITY                                0.050994\n",
            "DAYS_ID_PUBLISH                                       0.051457\n",
            "CODE_GENDER__M                                        0.054713\n",
            "DAYS_LAST_PHONE_CHANGE                                0.055218\n",
            "NAME_INCOME_TYPE__Working                             0.057481\n",
            "REGION_RATING_CLIENT                                  0.058899\n",
            "REGION_RATING_CLIENT_W_CITY                           0.060893\n",
            "DAYS_EMPLOYED                                         0.074958\n",
            "DAYS_BIRTH                                            0.078239\n",
            "TARGET                                                1.000000\n",
            "Name: TARGET, dtype: float64\n",
            "\n",
            "Most Negative Correlations:\n",
            " EXT_SOURCE_3                            -0.178919\n",
            "EXT_SOURCE_2                            -0.160472\n",
            "EXT_SOURCE_1                            -0.155317\n",
            "NAME_EDUCATION_TYPE__Higher education   -0.056593\n",
            "CODE_GENDER__F                          -0.054704\n",
            "NAME_INCOME_TYPE__Pensioner             -0.046209\n",
            "ORGANIZATION_TYPE__XNA                  -0.045987\n",
            "DAYS_EMPLOYED_ANOM                      -0.045987\n",
            "FLOORSMAX_AVG                           -0.044003\n",
            "FLOORSMAX_MEDI                          -0.043768\n",
            "FLOORSMAX_MODE                          -0.043226\n",
            "EMERGENCYSTATE_MODE__No                 -0.042201\n",
            "HOUSETYPE_MODE__block of flats          -0.040594\n",
            "AMT_GOODS_PRICE                         -0.039645\n",
            "REGION_POPULATION_RELATIVE              -0.037227\n",
            "Name: TARGET, dtype: float64\n"
          ],
          "name": "stdout"
        }
      ]
    },
    {
      "cell_type": "code",
      "metadata": {
        "id": "QAHt2Syyl38u",
        "colab_type": "code",
        "outputId": "5fde77c0-5e84-4f84-a6ea-8be21b8cb814",
        "colab": {
          "base_uri": "https://localhost:8080/",
          "height": 34
        }
      },
      "source": [
        "# Find the correlation of the positive days since birth and target\n",
        "app_train['DAYS_BIRTH'] = abs(app_train['DAYS_BIRTH'])\n",
        "app_train['YEARS_BIRTH'] = app_train['DAYS_BIRTH'] / 365\n",
        "\n",
        "app_test['DAYS_BIRTH'] = abs(app_test['DAYS_BIRTH'])\n",
        "app_test['YEARS_BIRTH'] = app_test['DAYS_BIRTH'] / 365\n",
        "\n",
        "app_train['DAYS_BIRTH'].corr(app_train['TARGET'])"
      ],
      "execution_count": 0,
      "outputs": [
        {
          "output_type": "execute_result",
          "data": {
            "text/plain": [
              "-0.07823930830982694"
            ]
          },
          "metadata": {
            "tags": []
          },
          "execution_count": 11
        }
      ]
    },
    {
      "cell_type": "code",
      "metadata": {
        "id": "BzpVUrfqnJwj",
        "colab_type": "code",
        "outputId": "09939855-ff35-495d-dce3-a8eeb2412212",
        "colab": {
          "base_uri": "https://localhost:8080/",
          "height": 325
        }
      },
      "source": [
        "# Set the style of plots\n",
        "plt.style.use('fivethirtyeight')\n",
        "\n",
        "# Plot the distribution of ages in years\n",
        "plt.hist(app_train['YEARS_BIRTH'], edgecolor = 'k', bins = 25)\n",
        "plt.title('Age of Client'); plt.xlabel('Age (years)'); plt.ylabel('Count');\n",
        "plt.show()"
      ],
      "execution_count": 0,
      "outputs": [
        {
          "output_type": "display_data",
          "data": {
            "image/png": "[encoded data removed]",
            "text/plain": [
              "<Figure size 432x288 with 1 Axes>"
            ]
          },
          "metadata": {
            "tags": []
          }
        }
      ]
    },
    {
      "cell_type": "code",
      "metadata": {
        "id": "_B6zTuGrnXZy",
        "colab_type": "code",
        "outputId": "83b5e16c-d903-40fc-dba6-a76cb4a01d3b",
        "colab": {
          "base_uri": "https://localhost:8080/",
          "height": 1000
        }
      },
      "source": [
        "# average failure to repay loans by age bracket\n",
        "age_data = app_train[['TARGET', 'DAYS_BIRTH','YEARS_BIRTH']]\n",
        "print(age_data.head)\n",
        "\n",
        "# Bin the age data\n",
        "age_data['YEARS_BINNED'] = pd.cut(age_data['YEARS_BIRTH'], bins = np.linspace(20, 70, num = 11))\n",
        "# Group by the bin and calculate averages\n",
        "age_groups = age_data.groupby('YEARS_BINNED').mean()\n",
        "print(age_groups)\n",
        "\n",
        "plt.figure(figsize = (8, 8))\n",
        "# Graph the age bins and the average of the target as a bar plot\n",
        "plt.bar(age_groups.index.astype(str), 100 * age_groups['TARGET'])\n",
        "\n",
        "# Plot labeling\n",
        "plt.xticks(rotation = 75); plt.xlabel('Age Group (years)'); plt.ylabel('Failure to Repay (%)')\n",
        "plt.title('Failure to Repay by Age Group');\n",
        "plt.show()"
      ],
      "execution_count": 0,
      "outputs": [
        {
          "output_type": "stream",
          "text": [
            "<bound method NDFrame.head of         TARGET  DAYS_BIRTH  YEARS_BIRTH\n",
            "0            1        9461    25.920548\n",
            "1            0       16765    45.931507\n",
            "2            0       19046    52.180822\n",
            "3            0       19005    52.068493\n",
            "4            0       19932    54.608219\n",
            "...        ...         ...          ...\n",
            "307506       0        9327    25.553425\n",
            "307507       0       20775    56.917808\n",
            "307508       0       14966    41.002740\n",
            "307509       1       11961    32.769863\n",
            "307510       0       16856    46.180822\n",
            "\n",
            "[307511 rows x 3 columns]>\n",
            "                TARGET    DAYS_BIRTH  YEARS_BIRTH\n",
            "YEARS_BINNED                                     \n",
            "(20.0, 25.0]  0.123036   8532.795625    23.377522\n",
            "(25.0, 30.0]  0.111436  10155.219250    27.822518\n",
            "(30.0, 35.0]  0.102814  11854.848377    32.479037\n",
            "(35.0, 40.0]  0.089414  13707.908253    37.555913\n",
            "(40.0, 45.0]  0.078491  15497.661233    42.459346\n",
            "(45.0, 50.0]  0.074171  17323.900441    47.462741\n",
            "(50.0, 55.0]  0.066968  19196.494791    52.593136\n",
            "(55.0, 60.0]  0.055314  20984.262742    57.491131\n",
            "(60.0, 65.0]  0.052737  22780.547460    62.412459\n",
            "(65.0, 70.0]  0.037270  24292.614340    66.555108\n"
          ],
          "name": "stdout"
        },
        {
          "output_type": "stream",
          "text": [
            "/usr/local/lib/python3.6/dist-packages/ipykernel_launcher.py:5: SettingWithCopyWarning: \n",
            "A value is trying to be set on a copy of a slice from a DataFrame.\n",
            "Try using .loc[row_indexer,col_indexer] = value instead\n",
            "\n",
            "See the caveats in the documentation: http://pandas.pydata.org/pandas-docs/stable/user_guide/indexing.html#returning-a-view-versus-a-copy\n",
            "  \"\"\"\n"
          ],
          "name": "stderr"
        },
        {
          "output_type": "display_data",
          "data": {
            "image/png": "[encoded data removed]",
            "text/plain": [
              "<Figure size 576x576 with 1 Axes>"
            ]
          },
          "metadata": {
            "tags": []
          }
        }
      ]
    },
    {
      "cell_type": "code",
      "metadata": {
        "id": "M5bqgWnduMGX",
        "colab_type": "code",
        "outputId": "39a64429-f1c7-424f-feb8-1e788b16ac8c",
        "colab": {
          "base_uri": "https://localhost:8080/",
          "height": 34
        }
      },
      "source": [
        "# Make a new dataframe for polynomial features\n",
        "poly_features = app_train[['EXT_SOURCE_1', 'EXT_SOURCE_2', 'EXT_SOURCE_3', 'DAYS_BIRTH', 'TARGET']]\n",
        "poly_features_test = app_test[['EXT_SOURCE_1', 'EXT_SOURCE_2', 'EXT_SOURCE_3', 'DAYS_BIRTH']]\n",
        "\n",
        "# imputer for handling missing values\n",
        "from sklearn.impute import SimpleImputer\n",
        "imputer = SimpleImputer(strategy = 'median')\n",
        "\n",
        "poly_target = poly_features['TARGET']\n",
        "\n",
        "poly_features = poly_features.drop(columns = ['TARGET'])\n",
        "\n",
        "# Need to impute missing values\n",
        "poly_features = imputer.fit_transform(poly_features)\n",
        "poly_features_test = imputer.transform(poly_features_test)\n",
        "\n",
        "from sklearn.preprocessing import PolynomialFeatures\n",
        "                                  \n",
        "# Create the polynomial object with specified degree\n",
        "poly_transformer = PolynomialFeatures(degree = 3)\n",
        "\n",
        "# Train the polynomial features\n",
        "poly_transformer.fit(poly_features)\n",
        "\n",
        "# Transform the features\n",
        "poly_features = poly_transformer.transform(poly_features)\n",
        "poly_features_test = poly_transformer.transform(poly_features_test)\n",
        "print('Polynomial Features shape: ', poly_features.shape)\n"
      ],
      "execution_count": 0,
      "outputs": [
        {
          "output_type": "stream",
          "text": [
            "Polynomial Features shape:  (307511, 35)\n"
          ],
          "name": "stdout"
        }
      ]
    },
    {
      "cell_type": "code",
      "metadata": {
        "id": "Rpo_gt-kmJW3",
        "colab_type": "code",
        "outputId": "bd333f5a-012c-4ae3-bb77-08c0794edf9f",
        "colab": {
          "base_uri": "https://localhost:8080/",
          "height": 312
        }
      },
      "source": [
        "\n",
        "poly_transformer.get_feature_names(input_features = \n",
        "          ['EXT_SOURCE_1', 'EXT_SOURCE_2', 'EXT_SOURCE_3', 'DAYS_BIRTH'])[:15]\n",
        "\n",
        "\n",
        "# Create a dataframe of the features \n",
        "poly_features = pd.DataFrame(poly_features, \n",
        "          columns = poly_transformer.get_feature_names(['EXT_SOURCE_1', 'EXT_SOURCE_2', \n",
        "                                                        'EXT_SOURCE_3', 'DAYS_BIRTH']))\n",
        "\n",
        "# Add in the target\n",
        "poly_features['TARGET'] = poly_target\n",
        "\n",
        "# Find the correlations with the target\n",
        "poly_corrs = poly_features.corr()['TARGET'].sort_values()\n",
        "\n",
        "# Display most negative and most positive\n",
        "print(poly_corrs.head(10))\n",
        "print(poly_corrs.tail(5))"
      ],
      "execution_count": 0,
      "outputs": [
        {
          "output_type": "stream",
          "text": [
            "EXT_SOURCE_2 EXT_SOURCE_3                -0.193939\n",
            "EXT_SOURCE_1 EXT_SOURCE_2 EXT_SOURCE_3   -0.189605\n",
            "EXT_SOURCE_2 EXT_SOURCE_3 DAYS_BIRTH     -0.181283\n",
            "EXT_SOURCE_2^2 EXT_SOURCE_3              -0.176428\n",
            "EXT_SOURCE_2 EXT_SOURCE_3^2              -0.172282\n",
            "EXT_SOURCE_1 EXT_SOURCE_2                -0.166625\n",
            "EXT_SOURCE_1 EXT_SOURCE_3                -0.164065\n",
            "EXT_SOURCE_2                             -0.160295\n",
            "EXT_SOURCE_2 DAYS_BIRTH                  -0.156873\n",
            "EXT_SOURCE_1 EXT_SOURCE_2^2              -0.156867\n",
            "Name: TARGET, dtype: float64\n",
            "DAYS_BIRTH     -0.078239\n",
            "DAYS_BIRTH^2   -0.076672\n",
            "DAYS_BIRTH^3   -0.074273\n",
            "TARGET          1.000000\n",
            "1                    NaN\n",
            "Name: TARGET, dtype: float64\n"
          ],
          "name": "stdout"
        }
      ]
    },
    {
      "cell_type": "code",
      "metadata": {
        "id": "IAKwdQpFn4LN",
        "colab_type": "code",
        "outputId": "c826d299-6272-486a-ad50-1e7aab3cea19",
        "colab": {
          "base_uri": "https://localhost:8080/",
          "height": 52
        }
      },
      "source": [
        "# Put test features into dataframe\n",
        "poly_features_test = pd.DataFrame(poly_features_test, \n",
        "                                  columns = poly_transformer.get_feature_names(['EXT_SOURCE_1', 'EXT_SOURCE_2', \n",
        "                                                                                'EXT_SOURCE_3', 'DAYS_BIRTH']))\n",
        "\n",
        "# Merge polynomial features into training dataframe\n",
        "poly_features['SK_ID_CURR'] = app_train['SK_ID_CURR']\n",
        "app_train_poly = app_train.merge(poly_features, on = 'SK_ID_CURR', how = 'left')\n",
        "\n",
        "# Merge polnomial features into testing dataframe\n",
        "poly_features_test['SK_ID_CURR'] = app_test['SK_ID_CURR']\n",
        "app_test_poly = app_test.merge(poly_features_test, on = 'SK_ID_CURR', how = 'left')\n",
        "\n",
        "# Align the dataframes\n",
        "app_train_poly, app_test_poly = app_train_poly.align(app_test_poly, join = 'inner', axis = 1)\n",
        "\n",
        "# Print out the new shapes\n",
        "print('Training data with polynomial features shape: ', app_train_poly.shape)\n",
        "print('Testing data with polynomial features shape:  ', app_test_poly.shape)"
      ],
      "execution_count": 0,
      "outputs": [
        {
          "output_type": "stream",
          "text": [
            "Training data with polynomial features shape:  (307511, 282)\n",
            "Testing data with polynomial features shape:   (48744, 282)\n"
          ],
          "name": "stdout"
        }
      ]
    },
    {
      "cell_type": "code",
      "metadata": {
        "id": "FyvmZzsJp0Z5",
        "colab_type": "code",
        "colab": {}
      },
      "source": [
        "app_train_domain = app_train.copy()\n",
        "app_test_domain = app_test.copy()\n",
        "\n",
        "app_train_domain['CREDIT_INCOME_PERCENT'] = app_train_domain['AMT_CREDIT'] / app_train_domain['AMT_INCOME_TOTAL']\n",
        "app_train_domain['ANNUITY_INCOME_PERCENT'] = app_train_domain['AMT_ANNUITY'] / app_train_domain['AMT_INCOME_TOTAL']\n",
        "app_train_domain['CREDIT_TERM'] = app_train_domain['AMT_ANNUITY'] / app_train_domain['AMT_CREDIT']\n",
        "app_train_domain['DAYS_EMPLOYED_PERCENT'] = app_train_domain['DAYS_EMPLOYED'] / app_train_domain['DAYS_BIRTH']\n",
        "\n",
        "app_test_domain['CREDIT_INCOME_PERCENT'] = app_test_domain['AMT_CREDIT'] / app_test_domain['AMT_INCOME_TOTAL']\n",
        "app_test_domain['ANNUITY_INCOME_PERCENT'] = app_test_domain['AMT_ANNUITY'] / app_test_domain['AMT_INCOME_TOTAL']\n",
        "app_test_domain['CREDIT_TERM'] = app_test_domain['AMT_ANNUITY'] / app_test_domain['AMT_CREDIT']\n",
        "app_test_domain['DAYS_EMPLOYED_PERCENT'] = app_test_domain['DAYS_EMPLOYED'] / app_test_domain['DAYS_BIRTH']\n"
      ],
      "execution_count": 0,
      "outputs": []
    },
    {
      "cell_type": "code",
      "metadata": {
        "id": "og4M5NrAx5pe",
        "colab_type": "code",
        "outputId": "b5a0eb91-23a7-4527-aa34-8a3dc4ef40a1",
        "colab": {
          "base_uri": "https://localhost:8080/",
          "height": 1000
        }
      },
      "source": [
        "plt.figure(figsize = (12, 20))\n",
        "# iterate through the new features\n",
        "for i, feature in enumerate(['CREDIT_INCOME_PERCENT', 'ANNUITY_INCOME_PERCENT', 'CREDIT_TERM', 'DAYS_EMPLOYED_PERCENT']):\n",
        "    \n",
        "    # create a new subplot for each source\n",
        "    plt.subplot(4, 1, i + 1)\n",
        "    # plot repaid loans\n",
        "    sns.kdeplot(app_train_domain.loc[app_train_domain['TARGET'] == 0, feature], label = 'target == 0')\n",
        "    # plot loans that were not repaid\n",
        "    sns.kdeplot(app_train_domain.loc[app_train_domain['TARGET'] == 1, feature], label = 'target == 1')\n",
        "    \n",
        "    # Label the plots\n",
        "    plt.title('Distribution of %s by Target Value' % feature)\n",
        "    plt.xlabel('%s' % feature); plt.ylabel('Density');\n",
        "    \n",
        "plt.tight_layout(h_pad = 2.5)\n",
        "plt.show()"
      ],
      "execution_count": 0,
      "outputs": [
        {
          "output_type": "display_data",
          "data": {
            "image/png": "[encoded data removed]",
            "text/plain": [
              "<Figure size 864x1440 with 4 Axes>"
            ]
          },
          "metadata": {
            "tags": []
          }
        }
      ]
    },
    {
      "cell_type": "code",
      "metadata": {
        "id": "kacpGGBsyhJ_",
        "colab_type": "code",
        "colab": {
          "base_uri": "https://localhost:8080/",
          "height": 52
        },
        "outputId": "c9e83add-1c92-4b64-99d6-10cf87c63693"
      },
      "source": [
        "# Logistic regression\n",
        "\n",
        "from sklearn.preprocessing import MinMaxScaler\n",
        "\n",
        "# Drop the target from the training data\n",
        "train_labels = pd.DataFrame()\n",
        "if 'TARGET' in app_train:\n",
        "    train_labels = app_train['TARGET']\n",
        "    train = app_train.drop(columns = ['TARGET'])\n",
        "else:\n",
        "    train = app_train.copy()\n",
        "    \n",
        "# Feature names\n",
        "features = list(train.columns)\n",
        "\n",
        "# Copy of the testing data\n",
        "test = app_test.copy()\n",
        "\n",
        "# Median imputation of missing values\n",
        "imputer = SimpleImputer(strategy = 'median')\n",
        "\n",
        "# Scale each feature to 0-1\n",
        "scaler = MinMaxScaler(feature_range = (0, 1))\n",
        "\n",
        "# Fit on the training data\n",
        "imputer.fit(train)\n",
        "\n",
        "# Transform both training and testing data\n",
        "train = imputer.transform(train)\n",
        "test = imputer.transform(app_test)\n",
        "\n",
        "# Repeat with the scaler\n",
        "scaler.fit(train)\n",
        "train = scaler.transform(train)\n",
        "test = scaler.transform(test)\n",
        "\n",
        "print('Training data shape: ', train.shape)\n",
        "print('Testing data shape: ', test.shape)"
      ],
      "execution_count": 28,
      "outputs": [
        {
          "output_type": "stream",
          "text": [
            "Training data shape:  (307511, 247)\n",
            "Testing data shape:  (48744, 247)\n"
          ],
          "name": "stdout"
        }
      ]
    },
    {
      "cell_type": "code",
      "metadata": {
        "id": "xSP1rrOCzIlu",
        "colab_type": "code",
        "colab": {
          "base_uri": "https://localhost:8080/",
          "height": 104
        },
        "outputId": "6846b88d-57f6-4406-dfad-271413864e57"
      },
      "source": [
        "from sklearn.linear_model import LogisticRegression\n",
        "\n",
        "# Make the model with the specified regularization parameter\n",
        "log_reg = LogisticRegression(C = 0.0001)\n",
        "\n",
        "# Train on the training data\n",
        "log_reg.fit(train, train_labels)"
      ],
      "execution_count": 29,
      "outputs": [
        {
          "output_type": "execute_result",
          "data": {
            "text/plain": [
              "LogisticRegression(C=0.0001, class_weight=None, dual=False, fit_intercept=True,\n",
              "                   intercept_scaling=1, l1_ratio=None, max_iter=100,\n",
              "                   multi_class='auto', n_jobs=None, penalty='l2',\n",
              "                   random_state=None, solver='lbfgs', tol=0.0001, verbose=0,\n",
              "                   warm_start=False)"
            ]
          },
          "metadata": {
            "tags": []
          },
          "execution_count": 29
        }
      ]
    },
    {
      "cell_type": "code",
      "metadata": {
        "id": "QYR4Pllv1O2N",
        "colab_type": "code",
        "colab": {}
      },
      "source": [
        "# Make predictions\n",
        "# Make sure to select the second column only\n",
        "log_reg_pred = log_reg.predict_proba(test)[:, 1]\n"
      ],
      "execution_count": 0,
      "outputs": []
    },
    {
      "cell_type": "code",
      "metadata": {
        "id": "1VhjMuIq1TP1",
        "colab_type": "code",
        "colab": {
          "base_uri": "https://localhost:8080/",
          "height": 330
        },
        "outputId": "d38bda1f-45ea-4b7e-8c04-e3d536aff2b7"
      },
      "source": [
        "# Submission dataframe\n",
        "submit = app_test[['SK_ID_CURR']]\n",
        "submit['TARGET'] = log_reg_pred\n",
        "\n",
        "submit.head()"
      ],
      "execution_count": 31,
      "outputs": [
        {
          "output_type": "stream",
          "text": [
            "/usr/local/lib/python3.6/dist-packages/ipykernel_launcher.py:2: SettingWithCopyWarning: \n",
            "A value is trying to be set on a copy of a slice from a DataFrame.\n",
            "Try using .loc[row_indexer,col_indexer] = value instead\n",
            "\n",
            "See the caveats in the documentation: http://pandas.pydata.org/pandas-docs/stable/user_guide/indexing.html#returning-a-view-versus-a-copy\n",
            "  \n"
          ],
          "name": "stderr"
        },
        {
          "output_type": "execute_result",
          "data": {
            "text/html": [
              "<div>\n",
              "<style scoped>\n",
              "    .dataframe tbody tr th:only-of-type {\n",
              "        vertical-align: middle;\n",
              "    }\n",
              "\n",
              "    .dataframe tbody tr th {\n",
              "        vertical-align: top;\n",
              "    }\n",
              "\n",
              "    .dataframe thead th {\n",
              "        text-align: right;\n",
              "    }\n",
              "</style>\n",
              "<table border=\"1\" class=\"dataframe\">\n",
              "  <thead>\n",
              "    <tr style=\"text-align: right;\">\n",
              "      <th></th>\n",
              "      <th>SK_ID_CURR</th>\n",
              "      <th>TARGET</th>\n",
              "    </tr>\n",
              "  </thead>\n",
              "  <tbody>\n",
              "    <tr>\n",
              "      <th>0</th>\n",
              "      <td>100001</td>\n",
              "      <td>0.065405</td>\n",
              "    </tr>\n",
              "    <tr>\n",
              "      <th>1</th>\n",
              "      <td>100005</td>\n",
              "      <td>0.118430</td>\n",
              "    </tr>\n",
              "    <tr>\n",
              "      <th>2</th>\n",
              "      <td>100013</td>\n",
              "      <td>0.065887</td>\n",
              "    </tr>\n",
              "    <tr>\n",
              "      <th>3</th>\n",
              "      <td>100028</td>\n",
              "      <td>0.072409</td>\n",
              "    </tr>\n",
              "    <tr>\n",
              "      <th>4</th>\n",
              "      <td>100038</td>\n",
              "      <td>0.116135</td>\n",
              "    </tr>\n",
              "  </tbody>\n",
              "</table>\n",
              "</div>"
            ],
            "text/plain": [
              "   SK_ID_CURR    TARGET\n",
              "0      100001  0.065405\n",
              "1      100005  0.118430\n",
              "2      100013  0.065887\n",
              "3      100028  0.072409\n",
              "4      100038  0.116135"
            ]
          },
          "metadata": {
            "tags": []
          },
          "execution_count": 31
        }
      ]
    },
    {
      "cell_type": "code",
      "metadata": {
        "id": "Thj-A43h1yPl",
        "colab_type": "code",
        "colab": {}
      },
      "source": [
        "# Save the submission to a csv file\n",
        "submit.to_csv('log_reg_baseline.csv', index = False)"
      ],
      "execution_count": 0,
      "outputs": []
    }
  ]
}