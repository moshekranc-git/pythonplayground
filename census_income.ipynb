{
  "nbformat": 4,
  "nbformat_minor": 0,
  "metadata": {
    "colab": {
      "name": "census-income.ipynb",
      "provenance": [],
      "authorship_tag": "ABX9TyNAqllyhm/wDlT5GHkfXJHd",
      "include_colab_link": true
    },
    "kernelspec": {
      "name": "python3",
      "display_name": "Python 3"
    },
    "accelerator": "GPU"
  },
  "cells": [
    {
      "cell_type": "markdown",
      "metadata": {
        "id": "view-in-github",
        "colab_type": "text"
      },
      "source": [
        "<a href=\"https://colab.research.google.com/github/moshekranc-git/pythonplayground/blob/master/census_income.ipynb\" target=\"_parent\"><img src=\"https://colab.research.google.com/assets/colab-badge.svg\" alt=\"Open In Colab\"/></a>"
      ]
    },
    {
      "cell_type": "markdown",
      "metadata": {
        "id": "ojgb1PxKVKfb",
        "colab_type": "text"
      },
      "source": [
        "https://mc.ai/imbalanced-classification-with-the-adult-income-dataset/\n",
        "\n",
        "data file = adult-all-raw.csv\n",
        "\n",
        "must be run with GPU runtime environment\n"
      ]
    },
    {
      "cell_type": "code",
      "metadata": {
        "id": "apPQ7SJrVEhB",
        "colab_type": "code",
        "colab": {}
      },
      "source": [
        "# test harness and baseline model evaluation for the adult dataset\n",
        "from collections import Counter\n",
        "from numpy import mean\n",
        "from numpy import std\n",
        "from numpy import hstack\n",
        "from pandas import read_csv\n",
        "from sklearn.preprocessing import LabelEncoder\n",
        "from sklearn.model_selection import cross_val_score\n",
        "from sklearn.model_selection import RepeatedStratifiedKFold\n",
        "from sklearn.dummy import DummyClassifier\n",
        "from matplotlib import pyplot\n",
        "from sklearn.preprocessing import OneHotEncoder\n",
        "from sklearn.preprocessing import MinMaxScaler\n",
        "from sklearn.pipeline import Pipeline\n",
        "from sklearn.compose import ColumnTransformer\n",
        "from sklearn.model_selection import cross_val_score\n",
        "from sklearn.tree import DecisionTreeClassifier\n",
        "from sklearn.svm import SVC\n",
        "from sklearn.ensemble import RandomForestClassifier\n",
        "from sklearn.ensemble import GradientBoostingClassifier\n",
        "from sklearn.ensemble import BaggingClassifier\n",
        "from matplotlib import pyplot"
      ],
      "execution_count": 0,
      "outputs": []
    },
    {
      "cell_type": "code",
      "metadata": {
        "id": "n8NSWPtJVgQU",
        "colab_type": "code",
        "colab": {}
      },
      "source": [
        "# load the dataset\n",
        "def load_dataset(full_path):\n",
        "  # load the dataset as a numpy array\n",
        "  dataframe = read_csv(full_path, header=None, na_values='?')\n",
        "  print(dataframe.shape)\n",
        "  print(dataframe.dtypes)\n",
        "\n",
        "  # drop rows with missing\n",
        "  dataframe = dataframe.dropna()\n",
        "\n",
        "  # summarize the shape of the dataset\n",
        "  print(dataframe.shape)\n",
        "  print(dataframe.head())\n",
        "  dataframe.describe()\n",
        "  \n",
        "  # summarize the class distribution\n",
        "  target = dataframe.values[:,-1]\n",
        "  counter = Counter(target)\n",
        "  for k,v in counter.items():\n",
        "\t  per = v / len(target) * 100\n",
        "\t  print('Class=%s, Count=%d, Percentage=%.3f%%' % (k, v, per))\n",
        "   \n",
        "  # split into inputs and outputs\n",
        "  last_ix = len(dataframe.columns) - 1\n",
        "  X, y = dataframe.drop(last_ix, axis=1), dataframe[last_ix]\n",
        "  # select categorical and numerical features\n",
        "  cat_ix = X.select_dtypes(include=['object', 'bool']).columns\n",
        "  num_ix = X.select_dtypes(include=['int64', 'float64']).columns\n",
        "  print('cat_ix=', cat_ix, '\\n')\n",
        "  print('num_ix=', num_ix, '\\n')\n",
        "\n",
        "  # select a subset of the dataframe with the chosen columns\n",
        "  subset = dataframe[num_ix]\n",
        "  # create a histogram plot of each numeric variable\n",
        "  subset.hist()\n",
        "  pyplot.show()\n",
        "\n",
        "  # label encode the target variable to have the classes 0 and 1\n",
        "  y = LabelEncoder().fit_transform(y)\n",
        "  return X.values, y, cat_ix, num_ix"
      ],
      "execution_count": 0,
      "outputs": []
    },
    {
      "cell_type": "code",
      "metadata": {
        "id": "ObQlwoP1VnxT",
        "colab_type": "code",
        "colab": {}
      },
      "source": [
        "# evaluate a model\n",
        "def evaluate_model(X, y, model):\n",
        "\t# define evaluation procedure\n",
        "  cv = RepeatedStratifiedKFold(n_splits=10, n_repeats=3, random_state=1)\n",
        "  # evaluate model\n",
        "  scores = cross_val_score(model, X, y, scoring='accuracy', cv=cv, n_jobs=-1)\n",
        "  print(model, ':', scores)\n",
        "  return scores"
      ],
      "execution_count": 0,
      "outputs": []
    },
    {
      "cell_type": "code",
      "metadata": {
        "id": "NxOfH6TqV3hu",
        "colab_type": "code",
        "colab": {}
      },
      "source": [
        "# define models to test\n",
        "def get_models():\n",
        "\tmodels, names = list(), list()\n",
        "\t# CART\n",
        "\tmodels.append(DecisionTreeClassifier())\n",
        "\tnames.append('CART')\n",
        "\t# SVM\n",
        "\t#models.append(SVC(gamma='scale'))\n",
        "\t#names.append('SVM')\n",
        "\t# Bagging\n",
        "\t#models.append(BaggingClassifier(n_estimators=100))\n",
        "\t#names.append('BAG')\n",
        "\t# RF\n",
        "\t#models.append(RandomForestClassifier(n_estimators=100))\n",
        "\t#names.append('RF')\n",
        "\t# GBM\n",
        "\tmodels.append(GradientBoostingClassifier(n_estimators=100))\n",
        "\tnames.append('GBM')\n",
        "\treturn models, names"
      ],
      "execution_count": 0,
      "outputs": []
    },
    {
      "cell_type": "code",
      "metadata": {
        "id": "RPWcenghVsJN",
        "colab_type": "code",
        "colab": {
          "base_uri": "https://localhost:8080/",
          "height": 978
        },
        "outputId": "f216152e-f108-4ef7-bfd9-55f5e5f4b7a2"
      },
      "source": [
        "# define the location of the dataset\n",
        "full_path = 'adult-all-raw.csv'\n",
        "# load the dataset\n",
        "X, y, cat_ix, num_ix = load_dataset(full_path)\n",
        "# summarize the loaded dataset\n",
        "print(X.shape, y.shape, Counter(y))\n",
        "# define the reference model\n",
        "model = DummyClassifier(strategy='most_frequent')\n",
        "# evaluate the model\n",
        "scores = evaluate_model(X, y, model)\n",
        "# summarize performance\n",
        "print('Mean Accuracy: %.3f (%.3f)' % (mean(scores), std(scores)))"
      ],
      "execution_count": 27,
      "outputs": [
        {
          "output_type": "stream",
          "text": [
            "(48842, 15)\n",
            "0      int64\n",
            "1     object\n",
            "2      int64\n",
            "3     object\n",
            "4      int64\n",
            "5     object\n",
            "6     object\n",
            "7     object\n",
            "8     object\n",
            "9     object\n",
            "10     int64\n",
            "11     int64\n",
            "12     int64\n",
            "13    object\n",
            "14    object\n",
            "dtype: object\n",
            "(45222, 15)\n",
            "   0                 1       2          3   ...  11  12             13     14\n",
            "0  39         State-gov   77516  Bachelors  ...   0  40  United-States  <=50K\n",
            "1  50  Self-emp-not-inc   83311  Bachelors  ...   0  13  United-States  <=50K\n",
            "2  38           Private  215646    HS-grad  ...   0  40  United-States  <=50K\n",
            "3  53           Private  234721       11th  ...   0  40  United-States  <=50K\n",
            "4  28           Private  338409  Bachelors  ...   0  40           Cuba  <=50K\n",
            "\n",
            "[5 rows x 15 columns]\n",
            "Class=<=50K, Count=34014, Percentage=75.216%\n",
            "Class=>50K, Count=11208, Percentage=24.784%\n",
            "cat_ix= Int64Index([1, 3, 5, 6, 7, 8, 9, 13], dtype='int64') \n",
            "\n",
            "num_ix= Int64Index([0, 2, 4, 10, 11, 12], dtype='int64') \n",
            "\n"
          ],
          "name": "stdout"
        },
        {
          "output_type": "display_data",
          "data": {
            "image/png": "[encoded data removed]",
            "text/plain": [
              "<Figure size 432x288 with 6 Axes>"
            ]
          },
          "metadata": {
            "tags": []
          }
        },
        {
          "output_type": "stream",
          "text": [
            "(45222, 14) (45222,) Counter({0: 34014, 1: 11208})\n",
            "DummyClassifier(constant=None, random_state=None, strategy='most_frequent') : [0.75215565 0.75215565 0.75232198 0.75232198 0.75210084 0.75210084\n",
            " 0.75210084 0.75210084 0.75210084 0.75210084 0.75215565 0.75215565\n",
            " 0.75232198 0.75232198 0.75210084 0.75210084 0.75210084 0.75210084\n",
            " 0.75210084 0.75210084 0.75215565 0.75215565 0.75232198 0.75232198\n",
            " 0.75210084 0.75210084 0.75210084 0.75210084 0.75210084 0.75210084]\n",
            "Mean Accuracy: 0.752 (0.000)\n"
          ],
          "name": "stdout"
        }
      ]
    },
    {
      "cell_type": "code",
      "metadata": {
        "id": "3QjeqXW7V-Cc",
        "colab_type": "code",
        "colab": {
          "base_uri": "https://localhost:8080/",
          "height": 1000
        },
        "outputId": "9deef396-715c-4270-93f5-662af08b78d8"
      },
      "source": [
        "# define models\n",
        "models, names = get_models()\n",
        "results = list()\n",
        "# evaluate each model\n",
        "for i in range(len(models)):\n",
        "\t# define steps\n",
        "\tsteps = [('c',OneHotEncoder(handle_unknown='ignore'),cat_ix), ('n',MinMaxScaler(),num_ix)]\n",
        "\t# one hot encode categorical, normalize numerical\n",
        "\tct = ColumnTransformer(steps)\n",
        "\t# wrap the model i a pipeline\n",
        "\tpipeline = Pipeline(steps=[('t',ct),('m',models[i])])\n",
        "\t# evaluate the model and store results\n",
        "\tscores = evaluate_model(X, y, pipeline)\n",
        "\tresults.append(scores)\n",
        "\t# summarize performance\n",
        "\tprint('>%s %.3f (%.3f)' % (names[i], mean(scores), std(scores)))"
      ],
      "execution_count": 28,
      "outputs": [
        {
          "output_type": "stream",
          "text": [
            "Pipeline(memory=None,\n",
            "         steps=[('t',\n",
            "                 ColumnTransformer(n_jobs=None, remainder='drop',\n",
            "                                   sparse_threshold=0.3,\n",
            "                                   transformer_weights=None,\n",
            "                                   transformers=[('c',\n",
            "                                                  OneHotEncoder(categories='auto',\n",
            "                                                                drop=None,\n",
            "                                                                dtype=<class 'numpy.float64'>,\n",
            "                                                                handle_unknown='ignore',\n",
            "                                                                sparse=True),\n",
            "                                                  Int64Index([1, 3, 5, 6, 7, 8, 9, 13], dtype='int64')),\n",
            "                                                 ('n',\n",
            "                                                  MinMaxScaler(copy=True,\n",
            "                                                               feature_range=(0,\n",
            "                                                                              1)),\n",
            "                                                  In...pe='int64'))],\n",
            "                                   verbose=False)),\n",
            "                ('m',\n",
            "                 DecisionTreeClassifier(ccp_alpha=0.0, class_weight=None,\n",
            "                                        criterion='gini', max_depth=None,\n",
            "                                        max_features=None, max_leaf_nodes=None,\n",
            "                                        min_impurity_decrease=0.0,\n",
            "                                        min_impurity_split=None,\n",
            "                                        min_samples_leaf=1, min_samples_split=2,\n",
            "                                        min_weight_fraction_leaf=0.0,\n",
            "                                        presort='deprecated', random_state=None,\n",
            "                                        splitter='best'))],\n",
            "         verbose=False) : [0.80433341 0.81317709 0.81733746 0.79632906 0.80871296 0.81888545\n",
            " 0.81158779 0.80981866 0.81180893 0.82087572 0.81914658 0.81782003\n",
            " 0.81402034 0.80495356 0.81446263 0.81203008 0.804069   0.8014153\n",
            " 0.80981866 0.80672269 0.80610214 0.8187044  0.81844317 0.81446263\n",
            " 0.81468377 0.80827068 0.81026095 0.81711632 0.80959752 0.80539584]\n",
            ">CART 0.811 (0.006)\n"
          ],
          "name": "stdout"
        },
        {
          "output_type": "stream",
          "text": [
            "/usr/local/lib/python3.6/dist-packages/joblib/externals/loky/process_executor.py:706: UserWarning: A worker stopped while some jobs were given to the executor. This can be caused by a too short worker timeout or by a memory leak.\n",
            "  \"timeout or by a memory leak.\", UserWarning\n"
          ],
          "name": "stderr"
        },
        {
          "output_type": "stream",
          "text": [
            "Pipeline(memory=None,\n",
            "         steps=[('t',\n",
            "                 ColumnTransformer(n_jobs=None, remainder='drop',\n",
            "                                   sparse_threshold=0.3,\n",
            "                                   transformer_weights=None,\n",
            "                                   transformers=[('c',\n",
            "                                                  OneHotEncoder(categories='auto',\n",
            "                                                                drop=None,\n",
            "                                                                dtype=<class 'numpy.float64'>,\n",
            "                                                                handle_unknown='ignore',\n",
            "                                                                sparse=True),\n",
            "                                                  Int64Index([1, 3, 5, 6, 7, 8, 9, 13], dtype='int64')),\n",
            "                                                 ('n',\n",
            "                                                  MinMaxScaler(copy=True,\n",
            "                                                               feature_range=(0,\n",
            "                                                                              1)),\n",
            "                                                  In...\n",
            "                                            learning_rate=0.1, loss='deviance',\n",
            "                                            max_depth=3, max_features=None,\n",
            "                                            max_leaf_nodes=None,\n",
            "                                            min_impurity_decrease=0.0,\n",
            "                                            min_impurity_split=None,\n",
            "                                            min_samples_leaf=1,\n",
            "                                            min_samples_split=2,\n",
            "                                            min_weight_fraction_leaf=0.0,\n",
            "                                            n_estimators=100,\n",
            "                                            n_iter_no_change=None,\n",
            "                                            presort='deprecated',\n",
            "                                            random_state=None, subsample=1.0,\n",
            "                                            tol=0.0001, validation_fraction=0.1,\n",
            "                                            verbose=0, warm_start=False))],\n",
            "         verbose=False) : [0.8582799  0.86093301 0.86864219 0.85338346 0.86023883 0.86554622\n",
            " 0.86289253 0.86156568 0.86775763 0.86864219 0.86469158 0.86734468\n",
            " 0.86311367 0.86775763 0.86687307 0.8622291  0.85515259 0.86267138\n",
            " 0.85913313 0.86466165 0.85805881 0.87287199 0.86952676 0.86620964\n",
            " 0.86709421 0.85891199 0.86311367 0.86333481 0.857364   0.85603715]\n",
            ">GBM 0.863 (0.005)\n"
          ],
          "name": "stdout"
        }
      ]
    },
    {
      "cell_type": "code",
      "metadata": {
        "id": "aAy38XooipCN",
        "colab_type": "code",
        "colab": {
          "base_uri": "https://localhost:8080/",
          "height": 265
        },
        "outputId": "34f52502-cc65-4895-9293-5c52b76220a8"
      },
      "source": [
        "# plot the results\n",
        "pyplot.boxplot(results, labels=names, showmeans=True)\n",
        "pyplot.show()"
      ],
      "execution_count": 30,
      "outputs": [
        {
          "output_type": "display_data",
          "data": {
            "image/png": "[encoded data removed]",
            "text/plain": [
              "<Figure size 432x288 with 1 Axes>"
            ]
          },
          "metadata": {
            "tags": []
          }
        }
      ]
    }
  ]
}