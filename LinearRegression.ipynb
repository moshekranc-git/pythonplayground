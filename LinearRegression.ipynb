{
  "nbformat": 4,
  "nbformat_minor": 0,
  "metadata": {
    "colab": {
      "name": "LinearRegression.ipynb",
      "provenance": [],
      "collapsed_sections": [],
      "toc_visible": true,
      "authorship_tag": "ABX9TyNnLP/cLQk8X/I/iSHkyIia",
      "include_colab_link": true
    },
    "kernelspec": {
      "name": "python3",
      "display_name": "Python 3"
    }
  },
  "cells": [
    {
      "cell_type": "markdown",
      "metadata": {
        "id": "view-in-github",
        "colab_type": "text"
      },
      "source": [
        "<a href=\"https://colab.research.google.com/github/moshekranc-git/pythonplayground/blob/master/LinearRegression.ipynb\" target=\"_parent\"><img src=\"https://colab.research.google.com/assets/colab-badge.svg\" alt=\"Open In Colab\"/></a>"
      ]
    },
    {
      "cell_type": "code",
      "metadata": {
        "id": "Ih-eUNTXxzB5",
        "colab_type": "code",
        "colab": {}
      },
      "source": [
        "import pandas as pd  \n",
        "import numpy as np  \n",
        "import matplotlib.pyplot as plt  \n",
        "import seaborn as seabornInstance \n",
        "from sklearn.model_selection import train_test_split \n",
        "from sklearn.linear_model import LinearRegression\n",
        "from sklearn import metrics\n",
        "%matplotlib inline"
      ],
      "execution_count": 0,
      "outputs": []
    },
    {
      "cell_type": "code",
      "metadata": {
        "id": "HpHWR7wjy5xe",
        "colab_type": "code",
        "colab": {}
      },
      "source": [
        ""
      ],
      "execution_count": 0,
      "outputs": []
    },
    {
      "cell_type": "code",
      "metadata": {
        "id": "PfROWnuOtXVU",
        "colab_type": "code",
        "colab": {}
      },
      "source": [
        ""
      ],
      "execution_count": 0,
      "outputs": []
    },
    {
      "cell_type": "code",
      "metadata": {
        "id": "1LiuTP-WtuBe",
        "colab_type": "code",
        "colab": {
          "base_uri": "https://localhost:8080/",
          "height": 72
        },
        "outputId": "7fd3deb8-8702-4682-96f2-49afe809969e"
      },
      "source": [
        "dataset = pd.read_csv('Weather.csv')"
      ],
      "execution_count": 4,
      "outputs": [
        {
          "output_type": "stream",
          "text": [
            "/usr/local/lib/python3.6/dist-packages/IPython/core/interactiveshell.py:2718: DtypeWarning: Columns (7,8,18,25) have mixed types. Specify dtype option on import or set low_memory=False.\n",
            "  interactivity=interactivity, compiler=compiler, result=result)\n"
          ],
          "name": "stderr"
        }
      ]
    },
    {
      "cell_type": "markdown",
      "metadata": {
        "id": "GmG3uvmYyNE2",
        "colab_type": "text"
      },
      "source": [
        ""
      ]
    },
    {
      "cell_type": "code",
      "metadata": {
        "id": "jd3cLADeuEXG",
        "colab_type": "code",
        "colab": {
          "base_uri": "https://localhost:8080/",
          "height": 320
        },
        "outputId": "6f899b59-a2dc-42ee-87f9-23c9fc7932fb"
      },
      "source": [
        "dataset.describe()\n",
        "\n"
      ],
      "execution_count": 10,
      "outputs": [
        {
          "output_type": "execute_result",
          "data": {
            "text/html": [
              "<div>\n",
              "<style scoped>\n",
              "    .dataframe tbody tr th:only-of-type {\n",
              "        vertical-align: middle;\n",
              "    }\n",
              "\n",
              "    .dataframe tbody tr th {\n",
              "        vertical-align: top;\n",
              "    }\n",
              "\n",
              "    .dataframe thead th {\n",
              "        text-align: right;\n",
              "    }\n",
              "</style>\n",
              "<table border=\"1\" class=\"dataframe\">\n",
              "  <thead>\n",
              "    <tr style=\"text-align: right;\">\n",
              "      <th></th>\n",
              "      <th>STA</th>\n",
              "      <th>WindGustSpd</th>\n",
              "      <th>MaxTemp</th>\n",
              "      <th>MinTemp</th>\n",
              "      <th>MeanTemp</th>\n",
              "      <th>YR</th>\n",
              "      <th>MO</th>\n",
              "      <th>DA</th>\n",
              "      <th>DR</th>\n",
              "      <th>SPD</th>\n",
              "      <th>MAX</th>\n",
              "      <th>MIN</th>\n",
              "      <th>MEA</th>\n",
              "      <th>SND</th>\n",
              "      <th>FT</th>\n",
              "      <th>FB</th>\n",
              "      <th>FTI</th>\n",
              "      <th>ITH</th>\n",
              "      <th>PGT</th>\n",
              "      <th>SD3</th>\n",
              "      <th>RHX</th>\n",
              "      <th>RHN</th>\n",
              "      <th>RVG</th>\n",
              "      <th>WTE</th>\n",
              "    </tr>\n",
              "  </thead>\n",
              "  <tbody>\n",
              "    <tr>\n",
              "      <th>count</th>\n",
              "      <td>119040.000000</td>\n",
              "      <td>532.000000</td>\n",
              "      <td>119040.000000</td>\n",
              "      <td>119040.000000</td>\n",
              "      <td>119040.000000</td>\n",
              "      <td>119040.000000</td>\n",
              "      <td>119040.000000</td>\n",
              "      <td>119040.000000</td>\n",
              "      <td>533.000000</td>\n",
              "      <td>532.000000</td>\n",
              "      <td>118566.000000</td>\n",
              "      <td>118572.000000</td>\n",
              "      <td>118542.000000</td>\n",
              "      <td>5563.0</td>\n",
              "      <td>0.0</td>\n",
              "      <td>0.0</td>\n",
              "      <td>0.0</td>\n",
              "      <td>0.0</td>\n",
              "      <td>525.000000</td>\n",
              "      <td>0.0</td>\n",
              "      <td>0.0</td>\n",
              "      <td>0.0</td>\n",
              "      <td>0.0</td>\n",
              "      <td>0.0</td>\n",
              "    </tr>\n",
              "    <tr>\n",
              "      <th>mean</th>\n",
              "      <td>29659.435795</td>\n",
              "      <td>37.774534</td>\n",
              "      <td>27.045111</td>\n",
              "      <td>17.789511</td>\n",
              "      <td>22.411631</td>\n",
              "      <td>43.805284</td>\n",
              "      <td>6.726016</td>\n",
              "      <td>15.797530</td>\n",
              "      <td>26.998124</td>\n",
              "      <td>20.396617</td>\n",
              "      <td>81.003745</td>\n",
              "      <td>64.273808</td>\n",
              "      <td>72.644843</td>\n",
              "      <td>0.0</td>\n",
              "      <td>NaN</td>\n",
              "      <td>NaN</td>\n",
              "      <td>NaN</td>\n",
              "      <td>NaN</td>\n",
              "      <td>12.085333</td>\n",
              "      <td>NaN</td>\n",
              "      <td>NaN</td>\n",
              "      <td>NaN</td>\n",
              "      <td>NaN</td>\n",
              "      <td>NaN</td>\n",
              "    </tr>\n",
              "    <tr>\n",
              "      <th>std</th>\n",
              "      <td>20953.209402</td>\n",
              "      <td>10.297808</td>\n",
              "      <td>8.717817</td>\n",
              "      <td>8.334572</td>\n",
              "      <td>8.297982</td>\n",
              "      <td>1.136718</td>\n",
              "      <td>3.425561</td>\n",
              "      <td>8.794541</td>\n",
              "      <td>15.221732</td>\n",
              "      <td>5.560371</td>\n",
              "      <td>14.869361</td>\n",
              "      <td>14.481498</td>\n",
              "      <td>14.211082</td>\n",
              "      <td>0.0</td>\n",
              "      <td>NaN</td>\n",
              "      <td>NaN</td>\n",
              "      <td>NaN</td>\n",
              "      <td>NaN</td>\n",
              "      <td>5.731328</td>\n",
              "      <td>NaN</td>\n",
              "      <td>NaN</td>\n",
              "      <td>NaN</td>\n",
              "      <td>NaN</td>\n",
              "      <td>NaN</td>\n",
              "    </tr>\n",
              "    <tr>\n",
              "      <th>min</th>\n",
              "      <td>10001.000000</td>\n",
              "      <td>18.520000</td>\n",
              "      <td>-33.333333</td>\n",
              "      <td>-38.333333</td>\n",
              "      <td>-35.555556</td>\n",
              "      <td>40.000000</td>\n",
              "      <td>1.000000</td>\n",
              "      <td>1.000000</td>\n",
              "      <td>2.000000</td>\n",
              "      <td>10.000000</td>\n",
              "      <td>-28.000000</td>\n",
              "      <td>-37.000000</td>\n",
              "      <td>-32.000000</td>\n",
              "      <td>0.0</td>\n",
              "      <td>NaN</td>\n",
              "      <td>NaN</td>\n",
              "      <td>NaN</td>\n",
              "      <td>NaN</td>\n",
              "      <td>0.000000</td>\n",
              "      <td>NaN</td>\n",
              "      <td>NaN</td>\n",
              "      <td>NaN</td>\n",
              "      <td>NaN</td>\n",
              "      <td>NaN</td>\n",
              "    </tr>\n",
              "    <tr>\n",
              "      <th>25%</th>\n",
              "      <td>11801.000000</td>\n",
              "      <td>29.632000</td>\n",
              "      <td>25.555556</td>\n",
              "      <td>15.000000</td>\n",
              "      <td>20.555556</td>\n",
              "      <td>43.000000</td>\n",
              "      <td>4.000000</td>\n",
              "      <td>8.000000</td>\n",
              "      <td>11.000000</td>\n",
              "      <td>16.000000</td>\n",
              "      <td>78.000000</td>\n",
              "      <td>59.000000</td>\n",
              "      <td>69.000000</td>\n",
              "      <td>0.0</td>\n",
              "      <td>NaN</td>\n",
              "      <td>NaN</td>\n",
              "      <td>NaN</td>\n",
              "      <td>NaN</td>\n",
              "      <td>8.500000</td>\n",
              "      <td>NaN</td>\n",
              "      <td>NaN</td>\n",
              "      <td>NaN</td>\n",
              "      <td>NaN</td>\n",
              "      <td>NaN</td>\n",
              "    </tr>\n",
              "    <tr>\n",
              "      <th>50%</th>\n",
              "      <td>22508.000000</td>\n",
              "      <td>37.040000</td>\n",
              "      <td>29.444444</td>\n",
              "      <td>21.111111</td>\n",
              "      <td>25.555556</td>\n",
              "      <td>44.000000</td>\n",
              "      <td>7.000000</td>\n",
              "      <td>16.000000</td>\n",
              "      <td>32.000000</td>\n",
              "      <td>20.000000</td>\n",
              "      <td>85.000000</td>\n",
              "      <td>70.000000</td>\n",
              "      <td>78.000000</td>\n",
              "      <td>0.0</td>\n",
              "      <td>NaN</td>\n",
              "      <td>NaN</td>\n",
              "      <td>NaN</td>\n",
              "      <td>NaN</td>\n",
              "      <td>11.600000</td>\n",
              "      <td>NaN</td>\n",
              "      <td>NaN</td>\n",
              "      <td>NaN</td>\n",
              "      <td>NaN</td>\n",
              "      <td>NaN</td>\n",
              "    </tr>\n",
              "    <tr>\n",
              "      <th>75%</th>\n",
              "      <td>33501.000000</td>\n",
              "      <td>43.059000</td>\n",
              "      <td>31.666667</td>\n",
              "      <td>23.333333</td>\n",
              "      <td>27.222222</td>\n",
              "      <td>45.000000</td>\n",
              "      <td>10.000000</td>\n",
              "      <td>23.000000</td>\n",
              "      <td>34.000000</td>\n",
              "      <td>23.250000</td>\n",
              "      <td>89.000000</td>\n",
              "      <td>74.000000</td>\n",
              "      <td>81.000000</td>\n",
              "      <td>0.0</td>\n",
              "      <td>NaN</td>\n",
              "      <td>NaN</td>\n",
              "      <td>NaN</td>\n",
              "      <td>NaN</td>\n",
              "      <td>15.000000</td>\n",
              "      <td>NaN</td>\n",
              "      <td>NaN</td>\n",
              "      <td>NaN</td>\n",
              "      <td>NaN</td>\n",
              "      <td>NaN</td>\n",
              "    </tr>\n",
              "    <tr>\n",
              "      <th>max</th>\n",
              "      <td>82506.000000</td>\n",
              "      <td>75.932000</td>\n",
              "      <td>50.000000</td>\n",
              "      <td>34.444444</td>\n",
              "      <td>40.000000</td>\n",
              "      <td>45.000000</td>\n",
              "      <td>12.000000</td>\n",
              "      <td>31.000000</td>\n",
              "      <td>78.000000</td>\n",
              "      <td>41.000000</td>\n",
              "      <td>122.000000</td>\n",
              "      <td>94.000000</td>\n",
              "      <td>104.000000</td>\n",
              "      <td>0.0</td>\n",
              "      <td>NaN</td>\n",
              "      <td>NaN</td>\n",
              "      <td>NaN</td>\n",
              "      <td>NaN</td>\n",
              "      <td>23.900000</td>\n",
              "      <td>NaN</td>\n",
              "      <td>NaN</td>\n",
              "      <td>NaN</td>\n",
              "      <td>NaN</td>\n",
              "      <td>NaN</td>\n",
              "    </tr>\n",
              "  </tbody>\n",
              "</table>\n",
              "</div>"
            ],
            "text/plain": [
              "                 STA  WindGustSpd        MaxTemp  ...  RHN  RVG  WTE\n",
              "count  119040.000000   532.000000  119040.000000  ...  0.0  0.0  0.0\n",
              "mean    29659.435795    37.774534      27.045111  ...  NaN  NaN  NaN\n",
              "std     20953.209402    10.297808       8.717817  ...  NaN  NaN  NaN\n",
              "min     10001.000000    18.520000     -33.333333  ...  NaN  NaN  NaN\n",
              "25%     11801.000000    29.632000      25.555556  ...  NaN  NaN  NaN\n",
              "50%     22508.000000    37.040000      29.444444  ...  NaN  NaN  NaN\n",
              "75%     33501.000000    43.059000      31.666667  ...  NaN  NaN  NaN\n",
              "max     82506.000000    75.932000      50.000000  ...  NaN  NaN  NaN\n",
              "\n",
              "[8 rows x 24 columns]"
            ]
          },
          "metadata": {
            "tags": []
          },
          "execution_count": 10
        }
      ]
    },
    {
      "cell_type": "code",
      "metadata": {
        "id": "knaWA21kuf1Y",
        "colab_type": "code",
        "colab": {
          "base_uri": "https://localhost:8080/",
          "height": 295
        },
        "outputId": "e3b057b7-21fd-4e35-ce10-ad93b89dfaac"
      },
      "source": [
        "dataset.plot(x='MinTemp', y='MaxTemp', style='o')  \n",
        "plt.title('MinTemp vs MaxTemp')  \n",
        "plt.xlabel('MinTemp')  \n",
        "plt.ylabel('MaxTemp')  \n",
        "plt.show()"
      ],
      "execution_count": 11,
      "outputs": [
        {
          "output_type": "display_data",
          "data": {
            "image/png": "[encoded data removed]",
            "text/plain": [
              "<Figure size 432x288 with 1 Axes>"
            ]
          },
          "metadata": {
            "tags": []
          }
        }
      ]
    },
    {
      "cell_type": "code",
      "metadata": {
        "id": "q85-FhHZu1Ah",
        "colab_type": "code",
        "colab": {
          "base_uri": "https://localhost:8080/",
          "height": 405
        },
        "outputId": "b9f16483-9f77-499d-956a-42201789721c"
      },
      "source": [
        "plt.figure(figsize=(9,6))\n",
        "plt.tight_layout()\n",
        "seabornInstance.distplot(dataset['MaxTemp'])"
      ],
      "execution_count": 13,
      "outputs": [
        {
          "output_type": "execute_result",
          "data": {
            "text/plain": [
              "<matplotlib.axes._subplots.AxesSubplot at 0x7f1a656596d8>"
            ]
          },
          "metadata": {
            "tags": []
          },
          "execution_count": 13
        },
        {
          "output_type": "display_data",
          "data": {
            "image/png": "[encoded data removed]",
            "text/plain": [
              "<Figure size 648x432 with 1 Axes>"
            ]
          },
          "metadata": {
            "tags": []
          }
        }
      ]
    },
    {
      "cell_type": "code",
      "metadata": {
        "id": "51-TzVL6vdET",
        "colab_type": "code",
        "colab": {}
      },
      "source": [
        "X = dataset['MinTemp'].values.reshape(-1,1)\n",
        "y = dataset['MaxTemp'].values.reshape(-1,1)\n",
        "X_train, X_test, y_train, y_test = train_test_split(X, y, test_size=0.2, random_state=0)\n"
      ],
      "execution_count": 0,
      "outputs": []
    },
    {
      "cell_type": "code",
      "metadata": {
        "id": "P3eGBDTyw-AA",
        "colab_type": "code",
        "colab": {
          "base_uri": "https://localhost:8080/",
          "height": 34
        },
        "outputId": "d1b4c1a7-de80-4970-8307-0ce9aab281f0"
      },
      "source": [
        "regressor = LinearRegression()  \n",
        "regressor.fit(X_train, y_train) #training the algorithm"
      ],
      "execution_count": 17,
      "outputs": [
        {
          "output_type": "execute_result",
          "data": {
            "text/plain": [
              "LinearRegression(copy_X=True, fit_intercept=True, n_jobs=None, normalize=False)"
            ]
          },
          "metadata": {
            "tags": []
          },
          "execution_count": 17
        }
      ]
    },
    {
      "cell_type": "code",
      "metadata": {
        "id": "Q5t5TIwkxHR4",
        "colab_type": "code",
        "colab": {
          "base_uri": "https://localhost:8080/",
          "height": 52
        },
        "outputId": "f29cc2b1-853b-401b-d5f2-9b8b46ad92ee"
      },
      "source": [
        "#To retrieve the intercept:\n",
        "print(regressor.intercept_)#For retrieving the slope:\n",
        "print(regressor.coef_)"
      ],
      "execution_count": 18,
      "outputs": [
        {
          "output_type": "stream",
          "text": [
            "[10.66185201]\n",
            "[[0.92033997]]\n"
          ],
          "name": "stdout"
        }
      ]
    },
    {
      "cell_type": "code",
      "metadata": {
        "id": "Dm74XaZhxScP",
        "colab_type": "code",
        "colab": {}
      },
      "source": [
        "y_pred = regressor.predict(X_test)"
      ],
      "execution_count": 0,
      "outputs": []
    },
    {
      "cell_type": "code",
      "metadata": {
        "id": "F5-BQIHhxXFP",
        "colab_type": "code",
        "colab": {
          "base_uri": "https://localhost:8080/",
          "height": 424
        },
        "outputId": "25985ced-2f37-4a39-ea17-4d988095cb06"
      },
      "source": [
        "df = pd.DataFrame({'Actual': y_test.flatten(), 'Predicted': y_pred.flatten()})\n",
        "df"
      ],
      "execution_count": 20,
      "outputs": [
        {
          "output_type": "execute_result",
          "data": {
            "text/html": [
              "<div>\n",
              "<style scoped>\n",
              "    .dataframe tbody tr th:only-of-type {\n",
              "        vertical-align: middle;\n",
              "    }\n",
              "\n",
              "    .dataframe tbody tr th {\n",
              "        vertical-align: top;\n",
              "    }\n",
              "\n",
              "    .dataframe thead th {\n",
              "        text-align: right;\n",
              "    }\n",
              "</style>\n",
              "<table border=\"1\" class=\"dataframe\">\n",
              "  <thead>\n",
              "    <tr style=\"text-align: right;\">\n",
              "      <th></th>\n",
              "      <th>Actual</th>\n",
              "      <th>Predicted</th>\n",
              "    </tr>\n",
              "  </thead>\n",
              "  <tbody>\n",
              "    <tr>\n",
              "      <th>0</th>\n",
              "      <td>28.888889</td>\n",
              "      <td>33.670351</td>\n",
              "    </tr>\n",
              "    <tr>\n",
              "      <th>1</th>\n",
              "      <td>31.111111</td>\n",
              "      <td>30.091251</td>\n",
              "    </tr>\n",
              "    <tr>\n",
              "      <th>2</th>\n",
              "      <td>27.222222</td>\n",
              "      <td>26.512151</td>\n",
              "    </tr>\n",
              "    <tr>\n",
              "      <th>3</th>\n",
              "      <td>28.888889</td>\n",
              "      <td>31.113851</td>\n",
              "    </tr>\n",
              "    <tr>\n",
              "      <th>4</th>\n",
              "      <td>23.333333</td>\n",
              "      <td>15.774852</td>\n",
              "    </tr>\n",
              "    <tr>\n",
              "      <th>...</th>\n",
              "      <td>...</td>\n",
              "      <td>...</td>\n",
              "    </tr>\n",
              "    <tr>\n",
              "      <th>23803</th>\n",
              "      <td>32.777778</td>\n",
              "      <td>32.136451</td>\n",
              "    </tr>\n",
              "    <tr>\n",
              "      <th>23804</th>\n",
              "      <td>32.222222</td>\n",
              "      <td>29.068651</td>\n",
              "    </tr>\n",
              "    <tr>\n",
              "      <th>23805</th>\n",
              "      <td>31.111111</td>\n",
              "      <td>32.647751</td>\n",
              "    </tr>\n",
              "    <tr>\n",
              "      <th>23806</th>\n",
              "      <td>31.111111</td>\n",
              "      <td>30.602551</td>\n",
              "    </tr>\n",
              "    <tr>\n",
              "      <th>23807</th>\n",
              "      <td>36.666667</td>\n",
              "      <td>31.625151</td>\n",
              "    </tr>\n",
              "  </tbody>\n",
              "</table>\n",
              "<p>23808 rows × 2 columns</p>\n",
              "</div>"
            ],
            "text/plain": [
              "          Actual  Predicted\n",
              "0      28.888889  33.670351\n",
              "1      31.111111  30.091251\n",
              "2      27.222222  26.512151\n",
              "3      28.888889  31.113851\n",
              "4      23.333333  15.774852\n",
              "...          ...        ...\n",
              "23803  32.777778  32.136451\n",
              "23804  32.222222  29.068651\n",
              "23805  31.111111  32.647751\n",
              "23806  31.111111  30.602551\n",
              "23807  36.666667  31.625151\n",
              "\n",
              "[23808 rows x 2 columns]"
            ]
          },
          "metadata": {
            "tags": []
          },
          "execution_count": 20
        }
      ]
    },
    {
      "cell_type": "code",
      "metadata": {
        "id": "qZ64siTkxekn",
        "colab_type": "code",
        "colab": {
          "base_uri": "https://localhost:8080/",
          "height": 594
        },
        "outputId": "7cf0fc0b-f610-4efd-9ce7-4b741afc40a9"
      },
      "source": [
        "df1 = df.head(25)\n",
        "df1.plot(kind='bar',figsize=(16,10))\n",
        "plt.grid(which='major', linestyle='-', linewidth='0.5', color='green')\n",
        "plt.grid(which='minor', linestyle=':', linewidth='0.5', color='black')\n",
        "plt.show()"
      ],
      "execution_count": 21,
      "outputs": [
        {
          "output_type": "display_data",
          "data": {
            "image/png": "[encoded data removed]",
            "text/plain": [
              "<Figure size 1152x720 with 1 Axes>"
            ]
          },
          "metadata": {
            "tags": []
          }
        }
      ]
    },
    {
      "cell_type": "code",
      "metadata": {
        "id": "ngejT7KVxoOX",
        "colab_type": "code",
        "colab": {
          "base_uri": "https://localhost:8080/",
          "height": 282
        },
        "outputId": "951c93ea-995b-43a1-9a3b-a7a11cbfa592"
      },
      "source": [
        "plt.scatter(X_test, y_test,  color='gray')\n",
        "plt.plot(X_test, y_pred, color='red', linewidth=2)"
      ],
      "execution_count": 26,
      "outputs": [
        {
          "output_type": "execute_result",
          "data": {
            "text/plain": [
              "[<matplotlib.lines.Line2D at 0x7f1a629aa128>]"
            ]
          },
          "metadata": {
            "tags": []
          },
          "execution_count": 26
        },
        {
          "output_type": "display_data",
          "data": {
            "image/png": "[encoded data removed]",
            "text/plain": [
              "<Figure size 432x288 with 1 Axes>"
            ]
          },
          "metadata": {
            "tags": []
          }
        }
      ]
    },
    {
      "cell_type": "code",
      "metadata": {
        "id": "FAsxoe6Zy8Ez",
        "colab_type": "code",
        "colab": {
          "base_uri": "https://localhost:8080/",
          "height": 69
        },
        "outputId": "36032074-a730-41ff-e67c-15f67012754f"
      },
      "source": [
        "print('Mean Absolute Error:', metrics.mean_absolute_error(y_test, y_pred))  \n",
        "print('Mean Squared Error:', metrics.mean_squared_error(y_test, y_pred))  \n",
        "print('Root Mean Squared Error:', np.sqrt(metrics.mean_squared_error(y_test, y_pred)))"
      ],
      "execution_count": 27,
      "outputs": [
        {
          "output_type": "stream",
          "text": [
            "Mean Absolute Error: 3.19932917837853\n",
            "Mean Squared Error: 17.631568097568447\n",
            "Root Mean Squared Error: 4.198996082109204\n"
          ],
          "name": "stdout"
        }
      ]
    }
  ]
}