{
  "nbformat": 4,
  "nbformat_minor": 0,
  "metadata": {
    "colab": {
      "name": "UnbalancedClassification.ipynb",
      "provenance": [],
      "collapsed_sections": [],
      "authorship_tag": "ABX9TyNus6hxWBR/pD96VJK+ooAM",
      "include_colab_link": true
    },
    "kernelspec": {
      "name": "python3",
      "display_name": "Python 3"
    }
  },
  "cells": [
    {
      "cell_type": "markdown",
      "metadata": {
        "id": "view-in-github",
        "colab_type": "text"
      },
      "source": [
        "<a href=\"https://colab.research.google.com/github/moshekranc-git/pythonplayground/blob/master/UnbalancedClassification.ipynb\" target=\"_parent\"><img src=\"https://colab.research.google.com/assets/colab-badge.svg\" alt=\"Open In Colab\"/></a>"
      ]
    },
    {
      "cell_type": "markdown",
      "metadata": {
        "id": "JB0qtpFPjPA8",
        "colab_type": "text"
      },
      "source": [
        "data file: colab/adult-all-cleaned.csv"
      ]
    },
    {
      "cell_type": "code",
      "metadata": {
        "id": "f1omC19fjEsF",
        "colab_type": "code",
        "colab": {}
      },
      "source": [
        "from numpy import mean\n",
        "from numpy import std\n",
        "from pandas import read_csv\n",
        "from matplotlib import pyplot\n",
        "from sklearn.preprocessing import LabelEncoder\n",
        "from sklearn.preprocessing import OneHotEncoder\n",
        "from sklearn.preprocessing import MinMaxScaler\n",
        "from sklearn.pipeline import Pipeline\n",
        "from sklearn.compose import ColumnTransformer\n",
        "from sklearn.model_selection import cross_val_score\n",
        "from sklearn.model_selection import RepeatedStratifiedKFold\n",
        "from sklearn.tree import DecisionTreeClassifier\n",
        "from sklearn.svm import SVC\n",
        "from sklearn.ensemble import RandomForestClassifier\n",
        "from sklearn.ensemble import GradientBoostingClassifier\n",
        "from sklearn.ensemble import BaggingClassifier"
      ],
      "execution_count": 0,
      "outputs": []
    },
    {
      "cell_type": "code",
      "metadata": {
        "id": "7VXKztdDjbeL",
        "colab_type": "code",
        "colab": {
          "base_uri": "https://localhost:8080/",
          "height": 469
        },
        "outputId": "cb6721c9-4629-4a0b-8a60-3d6b81982cdb"
      },
      "source": [
        "# load the dataset\n",
        "def load_dataset(full_path):\n",
        "  # load the dataset as a numpy dataframe\n",
        "  # moshe - there should be no missing values - the data was already cleaned\n",
        "  dataframe = read_csv(full_path, header=0, na_values='?')\n",
        "  print(dataframe.shape)\n",
        "  print(dataframe.dtypes)\n",
        " \n",
        "  # drop rows with missing 0 \n",
        "  # moshe - there should be none - the data was already cleaned\n",
        "  dataframe = dataframe.dropna()\n",
        "  print(dataframe.shape)\n",
        "\t\n",
        "  # split into inputs and outputs\n",
        "  last_ix = len(dataframe.columns) - 1\n",
        "  X, y = dataframe.drop('income>50K', axis=1), dataframe['income>50K']\n",
        "\t\n",
        "  # select categorical and numerical features\n",
        "  cat_ix = X.select_dtypes(include=['object', 'bool']).columns\n",
        "  num_ix = X.select_dtypes(include=['number', 'int64', 'float64']).columns\n",
        "  print('cat_ix=', cat_ix, '\\n')\n",
        "  print('num_ix=', num_ix, '\\n')\n",
        "\n",
        "  # label encode the target variable to have the classes 0 and 1\n",
        "  # moshe - no need to do this - already converted to 0/1\n",
        "  # y = LabelEncoder().fit_transform(y)\n",
        "\n",
        "  return X.values, y, cat_ix, num_ix\n",
        " \n",
        "\n",
        "# define the location of the dataset\n",
        "full_path = 'adult-all-cleaned.csv'\n",
        "# load the dataset\n",
        "X, y, cat_ix, num_ix = load_dataset(full_path)\n"
      ],
      "execution_count": 20,
      "outputs": [
        {
          "output_type": "stream",
          "text": [
            "(45222, 15)\n",
            "Age                           int64\n",
            "Workclass                    object\n",
            "Final Weight                  int64\n",
            "Education                    object\n",
            "Education Number of Years     int64\n",
            "Marital-status               object\n",
            "Occupation                   object\n",
            "Relationship                 object\n",
            "Race                         object\n",
            "Sex                          object\n",
            "Capital-gain                  int64\n",
            "Capital-loss                  int64\n",
            "Hours-per-week                int64\n",
            "Native-country               object\n",
            "income>50K                    int64\n",
            "dtype: object\n",
            "(45222, 15)\n",
            "cat_ix= Index(['Workclass', 'Education', 'Marital-status', 'Occupation',\n",
            "       'Relationship', 'Race', 'Sex', 'Native-country'],\n",
            "      dtype='object') \n",
            "\n",
            "num_ix= Index(['Age', 'Final Weight', 'Education Number of Years', 'Capital-gain',\n",
            "       'Capital-loss', 'Hours-per-week'],\n",
            "      dtype='object') \n",
            "\n"
          ],
          "name": "stdout"
        }
      ]
    }
  ]
}